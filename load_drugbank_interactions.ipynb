{
 "cells": [
  {
   "cell_type": "code",
   "execution_count": 2,
   "metadata": {
    "collapsed": true
   },
   "outputs": [],
   "source": [
    "from pymongo import MongoClient\n",
    "import pprint\n",
    "\n",
    "# connect to MongoDB\n",
    "client = MongoClient(port=21000)\n",
    "\n",
    "# use database db\n",
    "db = client.db\n",
    "\n",
    "# create a new collection 'rusrecords'\n",
    "coll = db['drug_bank']"
   ]
  },
  {
   "cell_type": "code",
   "execution_count": 7,
   "metadata": {},
   "outputs": [
    {
     "name": "stdout",
     "output_type": "stream",
     "text": [
      "1474/8206 drugs in drugbank.ca have listed interactions.\n"
     ]
    }
   ],
   "source": [
    "N = 0\n",
    "N_interactions = 0\n",
    "interactions = dict()\n",
    "for doc in coll.find():\n",
    "    if (doc['drug-interactions'] is not None and len(doc['drug-interactions']) > 0):\n",
    "        N_interactions += 1\n",
    "        interactions[doc['Drugname']] = doc['drug-interactions']\n",
    "    N += 1\n",
    "\n",
    "print(str(N_interactions)+'/'+str(N)+' drugs in drugbank.ca have listed interactions.')"
   ]
  },
  {
   "cell_type": "code",
   "execution_count": 8,
   "metadata": {},
   "outputs": [
    {
     "name": "stdout",
     "output_type": "stream",
     "text": [
      "{'drug-interaction': [{'description': 'The serum concentration of Imidafenacin '\n",
      "                                      'can be increased when it is combined '\n",
      "                                      'with Atazanavir.',\n",
      "                       'drugbank-id': 'DB01072',\n",
      "                       'name': 'Atazanavir'},\n",
      "                      {'description': 'The serum concentration of Imidafenacin '\n",
      "                                      'can be increased when it is combined '\n",
      "                                      'with Boceprevir.',\n",
      "                       'drugbank-id': 'DB08873',\n",
      "                       'name': 'Boceprevir'},\n",
      "                      {'description': 'The serum concentration of Imidafenacin '\n",
      "                                      'can be increased when it is combined '\n",
      "                                      'with Ceritinib.',\n",
      "                       'drugbank-id': 'DB09063',\n",
      "                       'name': 'Ceritinib'},\n",
      "                      {'description': 'The serum concentration of Imidafenacin '\n",
      "                                      'can be increased when it is combined '\n",
      "                                      'with Clarithromycin.',\n",
      "                       'drugbank-id': 'DB01211',\n",
      "                       'name': 'Clarithromycin'},\n",
      "                      {'description': 'The serum concentration of Imidafenacin '\n",
      "                                      'can be increased when it is combined '\n",
      "                                      'with Cobicistat.',\n",
      "                       'drugbank-id': 'DB09065',\n",
      "                       'name': 'Cobicistat'},\n",
      "                      {'description': 'The serum concentration of Imidafenacin '\n",
      "                                      'can be increased when it is combined '\n",
      "                                      'with Darunavir.',\n",
      "                       'drugbank-id': 'DB01264',\n",
      "                       'name': 'Darunavir'},\n",
      "                      {'description': 'The serum concentration of Imidafenacin '\n",
      "                                      'can be increased when it is combined '\n",
      "                                      'with Idelalisib.',\n",
      "                       'drugbank-id': 'DB09054',\n",
      "                       'name': 'Idelalisib'},\n",
      "                      {'description': 'The serum concentration of Imidafenacin '\n",
      "                                      'can be increased when it is combined '\n",
      "                                      'with Indinavir.',\n",
      "                       'drugbank-id': 'DB00224',\n",
      "                       'name': 'Indinavir'},\n",
      "                      {'description': 'The serum concentration of Imidafenacin '\n",
      "                                      'can be increased when it is combined '\n",
      "                                      'with Itraconazole.',\n",
      "                       'drugbank-id': 'DB01167',\n",
      "                       'name': 'Itraconazole'},\n",
      "                      {'description': 'The serum concentration of Imidafenacin '\n",
      "                                      'can be increased when it is combined '\n",
      "                                      'with Ketoconazole.',\n",
      "                       'drugbank-id': 'DB01026',\n",
      "                       'name': 'Ketoconazole'},\n",
      "                      {'description': 'The serum concentration of Imidafenacin '\n",
      "                                      'can be increased when it is combined '\n",
      "                                      'with Lopinavir.',\n",
      "                       'drugbank-id': 'DB01601',\n",
      "                       'name': 'Lopinavir'},\n",
      "                      {'description': 'The serum concentration of Imidafenacin '\n",
      "                                      'can be increased when it is combined '\n",
      "                                      'with Nefazodone.',\n",
      "                       'drugbank-id': 'DB01149',\n",
      "                       'name': 'Nefazodone'},\n",
      "                      {'description': 'The serum concentration of Imidafenacin '\n",
      "                                      'can be increased when it is combined '\n",
      "                                      'with Nelfinavir.',\n",
      "                       'drugbank-id': 'DB00220',\n",
      "                       'name': 'Nelfinavir'},\n",
      "                      {'description': 'The serum concentration of Imidafenacin '\n",
      "                                      'can be increased when it is combined '\n",
      "                                      'with Posaconazole.',\n",
      "                       'drugbank-id': 'DB01263',\n",
      "                       'name': 'Posaconazole'},\n",
      "                      {'description': 'The serum concentration of Imidafenacin '\n",
      "                                      'can be increased when it is combined '\n",
      "                                      'with Ritonavir.',\n",
      "                       'drugbank-id': 'DB00503',\n",
      "                       'name': 'Ritonavir'},\n",
      "                      {'description': 'The serum concentration of Imidafenacin '\n",
      "                                      'can be increased when it is combined '\n",
      "                                      'with Saquinavir.',\n",
      "                       'drugbank-id': 'DB01232',\n",
      "                       'name': 'Saquinavir'},\n",
      "                      {'description': 'The serum concentration of Imidafenacin '\n",
      "                                      'can be increased when it is combined '\n",
      "                                      'with Telaprevir.',\n",
      "                       'drugbank-id': 'DB05521',\n",
      "                       'name': 'Telaprevir'},\n",
      "                      {'description': 'The serum concentration of Imidafenacin '\n",
      "                                      'can be increased when it is combined '\n",
      "                                      'with Telithromycin.',\n",
      "                       'drugbank-id': 'DB00976',\n",
      "                       'name': 'Telithromycin'},\n",
      "                      {'description': 'The serum concentration of Imidafenacin '\n",
      "                                      'can be increased when it is combined '\n",
      "                                      'with Voriconazole.',\n",
      "                       'drugbank-id': 'DB00582',\n",
      "                       'name': 'Voriconazole'}]}\n"
     ]
    }
   ],
   "source": [
    "pprint.pprint(interactions['Imidafenacin'])"
   ]
  },
  {
   "cell_type": "code",
   "execution_count": 9,
   "metadata": {},
   "outputs": [
    {
     "name": "stdout",
     "output_type": "stream",
     "text": [
      "{'drug-interaction': [{'description': 'The risk or severity of adverse effects '\n",
      "                                      'can be increased when Acetazolamide is '\n",
      "                                      'combined with Metformin.',\n",
      "                       'drugbank-id': 'DB00819',\n",
      "                       'name': 'Acetazolamide'},\n",
      "                      {'description': 'Acetylsalicylic acid may increase the '\n",
      "                                      'hypoglycemic activities of Metformin.',\n",
      "                       'drugbank-id': 'DB00945',\n",
      "                       'name': 'Acetylsalicylic acid'},\n",
      "                      {'description': 'The risk or severity of adverse effects '\n",
      "                                      'can be increased when Aldesleukin is '\n",
      "                                      'combined with Metformin.',\n",
      "                       'drugbank-id': 'DB00041',\n",
      "                       'name': 'Aldesleukin'},\n",
      "                      {'description': 'Ardeparin may increase the hyperkalemic '\n",
      "                                      'activities of Metformin.',\n",
      "                       'drugbank-id': 'DB00407',\n",
      "                       'name': 'Ardeparin'},\n",
      "                      {'description': 'The therapeutic efficacy of Metformin '\n",
      "                                      'can be decreased when used in '\n",
      "                                      'combination with Aripiprazole.',\n",
      "                       'drugbank-id': 'DB01238',\n",
      "                       'name': 'Aripiprazole'},\n",
      "                      {'description': 'The therapeutic efficacy of Metformin '\n",
      "                                      'can be decreased when used in '\n",
      "                                      'combination with Arsenic trioxide.',\n",
      "                       'drugbank-id': 'DB01169',\n",
      "                       'name': 'Arsenic trioxide'},\n",
      "                      {'description': 'The therapeutic efficacy of Metformin '\n",
      "                                      'can be decreased when used in '\n",
      "                                      'combination with Articaine.',\n",
      "                       'drugbank-id': 'DB09009',\n",
      "                       'name': 'Articaine'},\n",
      "                      {'description': 'The therapeutic efficacy of Metformin '\n",
      "                                      'can be decreased when used in '\n",
      "                                      'combination with Asenapine.',\n",
      "                       'drugbank-id': 'DB06216',\n",
      "                       'name': 'Asenapine'},\n",
      "                      {'description': 'The therapeutic efficacy of Metformin '\n",
      "                                      'can be decreased when used in '\n",
      "                                      'combination with Atazanavir.',\n",
      "                       'drugbank-id': 'DB01072',\n",
      "                       'name': 'Atazanavir'},\n",
      "                      {'description': 'The therapeutic efficacy of Metformin '\n",
      "                                      'can be decreased when used in '\n",
      "                                      'combination with Bendroflumethiazide.',\n",
      "                       'drugbank-id': 'DB00436',\n",
      "                       'name': 'Bendroflumethiazide'},\n",
      "                      {'description': 'The therapeutic efficacy of Metformin '\n",
      "                                      'can be decreased when used in '\n",
      "                                      'combination with Betamethasone.',\n",
      "                       'drugbank-id': 'DB00443',\n",
      "                       'name': 'Betamethasone'},\n",
      "                      {'description': 'The therapeutic efficacy of Metformin '\n",
      "                                      'can be decreased when used in '\n",
      "                                      'combination with Brexpiprazole.',\n",
      "                       'drugbank-id': 'DB09128',\n",
      "                       'name': 'Brexpiprazole'},\n",
      "                      {'description': 'The therapeutic efficacy of Metformin '\n",
      "                                      'can be decreased when used in '\n",
      "                                      'combination with Bumetanide.',\n",
      "                       'drugbank-id': 'DB00887',\n",
      "                       'name': 'Bumetanide'},\n",
      "                      {'description': 'The serum concentration of Metformin '\n",
      "                                      'can be increased when it is combined '\n",
      "                                      'with Bupropion.',\n",
      "                       'drugbank-id': 'DB01156',\n",
      "                       'name': 'Bupropion'},\n",
      "                      {'description': 'The therapeutic efficacy of Metformin '\n",
      "                                      'can be decreased when used in '\n",
      "                                      'combination with Buserelin.',\n",
      "                       'drugbank-id': 'DB06719',\n",
      "                       'name': 'Buserelin'},\n",
      "                      {'description': 'Butabarbital may increase the '\n",
      "                                      'hypotensive activities of Metformin.',\n",
      "                       'drugbank-id': 'DB00237',\n",
      "                       'name': 'Butabarbital'},\n",
      "                      {'description': 'Butethal may increase the hypotensive '\n",
      "                                      'activities of Metformin.',\n",
      "                       'drugbank-id': 'DB01353',\n",
      "                       'name': 'Butethal'},\n",
      "                      {'description': 'The serum concentration of Metformin '\n",
      "                                      'can be increased when it is combined '\n",
      "                                      'with Cephalexin.',\n",
      "                       'drugbank-id': 'DB00567',\n",
      "                       'name': 'Cephalexin'},\n",
      "                      {'description': 'The therapeutic efficacy of Metformin '\n",
      "                                      'can be decreased when used in '\n",
      "                                      'combination with Ceritinib.',\n",
      "                       'drugbank-id': 'DB09063',\n",
      "                       'name': 'Ceritinib'},\n",
      "                      {'description': 'The therapeutic efficacy of Metformin '\n",
      "                                      'can be decreased when used in '\n",
      "                                      'combination with Chlorothiazide.',\n",
      "                       'drugbank-id': 'DB00880',\n",
      "                       'name': 'Chlorothiazide'},\n",
      "                      {'description': 'Metformin may increase the hypoglycemic '\n",
      "                                      'activities of Chlorpropamide.',\n",
      "                       'drugbank-id': 'DB00672',\n",
      "                       'name': 'Chlorpropamide'},\n",
      "                      {'description': 'The therapeutic efficacy of Metformin '\n",
      "                                      'can be decreased when used in '\n",
      "                                      'combination with Chlorthalidone.',\n",
      "                       'drugbank-id': 'DB00310',\n",
      "                       'name': 'Chlorthalidone'},\n",
      "                      {'description': 'The serum concentration of Metformin '\n",
      "                                      'can be increased when it is combined '\n",
      "                                      'with Cimetidine.',\n",
      "                       'drugbank-id': 'DB00501',\n",
      "                       'name': 'Cimetidine'},\n",
      "                      {'description': 'The therapeutic efficacy of Metformin '\n",
      "                                      'can be decreased when used in '\n",
      "                                      'combination with Clozapine.',\n",
      "                       'drugbank-id': 'DB00363',\n",
      "                       'name': 'Clozapine'},\n",
      "                      {'description': 'The therapeutic efficacy of Metformin '\n",
      "                                      'can be decreased when used in '\n",
      "                                      'combination with Corticotropin.',\n",
      "                       'drugbank-id': 'DB01285',\n",
      "                       'name': 'Corticotropin'},\n",
      "                      {'description': 'The therapeutic efficacy of Metformin '\n",
      "                                      'can be decreased when used in '\n",
      "                                      'combination with Cortisone acetate.',\n",
      "                       'drugbank-id': 'DB01380',\n",
      "                       'name': 'Cortisone acetate'},\n",
      "                      {'description': 'The therapeutic efficacy of Metformin '\n",
      "                                      'can be decreased when used in '\n",
      "                                      'combination with Cyproterone acetate.',\n",
      "                       'drugbank-id': 'DB04839',\n",
      "                       'name': 'Cyproterone acetate'},\n",
      "                      {'description': 'The therapeutic efficacy of Metformin '\n",
      "                                      'can be decreased when used in '\n",
      "                                      'combination with Dabrafenib.',\n",
      "                       'drugbank-id': 'DB08912',\n",
      "                       'name': 'Dabrafenib'},\n",
      "                      {'description': 'The serum concentration of '\n",
      "                                      'Dalfampridine can be increased when it '\n",
      "                                      'is combined with Metformin.',\n",
      "                       'drugbank-id': 'DB06637',\n",
      "                       'name': 'Dalfampridine'},\n",
      "                      {'description': 'The therapeutic efficacy of Metformin '\n",
      "                                      'can be decreased when used in '\n",
      "                                      'combination with Danazol.',\n",
      "                       'drugbank-id': 'DB01406',\n",
      "                       'name': 'Danazol'},\n",
      "                      {'description': 'The therapeutic efficacy of Metformin '\n",
      "                                      'can be decreased when used in '\n",
      "                                      'combination with Darunavir.',\n",
      "                       'drugbank-id': 'DB01264',\n",
      "                       'name': 'Darunavir'},\n",
      "                      {'description': 'The therapeutic efficacy of Metformin '\n",
      "                                      'can be decreased when used in '\n",
      "                                      'combination with Desogestrel.',\n",
      "                       'drugbank-id': 'DB00304',\n",
      "                       'name': 'Desogestrel'},\n",
      "                      {'description': 'The therapeutic efficacy of Metformin '\n",
      "                                      'can be decreased when used in '\n",
      "                                      'combination with Dexamethasone.',\n",
      "                       'drugbank-id': 'DB01234',\n",
      "                       'name': 'Dexamethasone'},\n",
      "                      {'description': 'The therapeutic efficacy of Metformin '\n",
      "                                      'can be decreased when used in '\n",
      "                                      'combination with Diazoxide.',\n",
      "                       'drugbank-id': 'DB01119',\n",
      "                       'name': 'Diazoxide'},\n",
      "                      {'description': 'The risk or severity of adverse effects '\n",
      "                                      'can be increased when Diclofenamide is '\n",
      "                                      'combined with Metformin.',\n",
      "                       'drugbank-id': 'DB01144',\n",
      "                       'name': 'Diclofenamide'},\n",
      "                      {'description': 'The therapeutic efficacy of Metformin '\n",
      "                                      'can be decreased when used in '\n",
      "                                      'combination with Dienogest.',\n",
      "                       'drugbank-id': 'DB09123',\n",
      "                       'name': 'Dienogest'},\n",
      "                      {'description': 'Dihydrotestosterone may increase the '\n",
      "                                      'hypoglycemic activities of Metformin.',\n",
      "                       'drugbank-id': 'DB02901',\n",
      "                       'name': 'Dihydrotestosterone'},\n",
      "                      {'description': 'Metformin may increase the hypoglycemic '\n",
      "                                      'activities of Disopyramide.',\n",
      "                       'drugbank-id': 'DB00280',\n",
      "                       'name': 'Disopyramide'},\n",
      "                      {'description': 'The serum concentration of Dofetilide '\n",
      "                                      'can be increased when it is combined '\n",
      "                                      'with Metformin.',\n",
      "                       'drugbank-id': 'DB00204',\n",
      "                       'name': 'Dofetilide'},\n",
      "                      {'description': 'The serum concentration of Metformin '\n",
      "                                      'can be increased when it is combined '\n",
      "                                      'with Dolutegravir.',\n",
      "                       'drugbank-id': 'DB08930',\n",
      "                       'name': 'Dolutegravir'},\n",
      "                      {'description': 'The therapeutic efficacy of Metformin '\n",
      "                                      'can be decreased when used in '\n",
      "                                      'combination with Drospirenone.',\n",
      "                       'drugbank-id': 'DB01395',\n",
      "                       'name': 'Drospirenone'},\n",
      "                      {'description': 'The therapeutic efficacy of Metformin '\n",
      "                                      'can be decreased when used in '\n",
      "                                      'combination with Epinephrine.',\n",
      "                       'drugbank-id': 'DB00668',\n",
      "                       'name': 'Epinephrine'},\n",
      "                      {'description': 'Metformin may increase the hypoglycemic '\n",
      "                                      'activities of Erythromycin.',\n",
      "                       'drugbank-id': 'DB00199',\n",
      "                       'name': 'Erythromycin'},\n",
      "                      {'description': 'The therapeutic efficacy of Metformin '\n",
      "                                      'can be decreased when used in '\n",
      "                                      'combination with Estradiol.',\n",
      "                       'drugbank-id': 'DB00783',\n",
      "                       'name': 'Estradiol'},\n",
      "                      {'description': 'The therapeutic efficacy of Metformin '\n",
      "                                      'can be decreased when used in '\n",
      "                                      'combination with Estropipate.',\n",
      "                       'drugbank-id': 'DB04574',\n",
      "                       'name': 'Estropipate'},\n",
      "                      {'description': 'The therapeutic efficacy of Metformin '\n",
      "                                      'can be decreased when used in '\n",
      "                                      'combination with Ethacrynic acid.',\n",
      "                       'drugbank-id': 'DB00903',\n",
      "                       'name': 'Ethacrynic acid'},\n",
      "                      {'description': 'The risk or severity of adverse effects '\n",
      "                                      'can be increased when Ethanol is '\n",
      "                                      'combined with Metformin.',\n",
      "                       'drugbank-id': 'DB00898',\n",
      "                       'name': 'Ethanol'},\n",
      "                      {'description': 'The therapeutic efficacy of Metformin '\n",
      "                                      'can be decreased when used in '\n",
      "                                      'combination with Ethinyl Estradiol.',\n",
      "                       'drugbank-id': 'DB00977',\n",
      "                       'name': 'Ethinyl Estradiol'},\n",
      "                      {'description': 'The risk or severity of adverse effects '\n",
      "                                      'can be increased when Ethoxzolamide is '\n",
      "                                      'combined with Metformin.',\n",
      "                       'drugbank-id': 'DB00311',\n",
      "                       'name': 'Ethoxzolamide'},\n",
      "                      {'description': 'The therapeutic efficacy of Metformin '\n",
      "                                      'can be decreased when used in '\n",
      "                                      'combination with Ethynodiol.',\n",
      "                       'drugbank-id': 'DB00823',\n",
      "                       'name': 'Ethynodiol'},\n",
      "                      {'description': 'The therapeutic efficacy of Metformin '\n",
      "                                      'can be decreased when used in '\n",
      "                                      'combination with Etonogestrel.',\n",
      "                       'drugbank-id': 'DB00294',\n",
      "                       'name': 'Etonogestrel'},\n",
      "                      {'description': 'The therapeutic efficacy of Metformin '\n",
      "                                      'can be decreased when used in '\n",
      "                                      'combination with Everolimus.',\n",
      "                       'drugbank-id': 'DB01590',\n",
      "                       'name': 'Everolimus'},\n",
      "                      {'description': 'The therapeutic efficacy of Metformin '\n",
      "                                      'can be decreased when used in '\n",
      "                                      'combination with Fludrocortisone.',\n",
      "                       'drugbank-id': 'DB00687',\n",
      "                       'name': 'Fludrocortisone'},\n",
      "                      {'description': 'The therapeutic efficacy of Metformin '\n",
      "                                      'can be decreased when used in '\n",
      "                                      'combination with Fosamprenavir.',\n",
      "                       'drugbank-id': 'DB01319',\n",
      "                       'name': 'Fosamprenavir'},\n",
      "                      {'description': 'The therapeutic efficacy of Metformin '\n",
      "                                      'can be decreased when used in '\n",
      "                                      'combination with Furosemide.',\n",
      "                       'drugbank-id': 'DB00695',\n",
      "                       'name': 'Furosemide'},\n",
      "                      {'description': 'Metformin may increase the hypoglycemic '\n",
      "                                      'activities of Gliclazide.',\n",
      "                       'drugbank-id': 'DB01120',\n",
      "                       'name': 'Gliclazide'},\n",
      "                      {'description': 'Metformin may increase the hypoglycemic '\n",
      "                                      'activities of Glimepiride.',\n",
      "                       'drugbank-id': 'DB00222',\n",
      "                       'name': 'Glimepiride'},\n",
      "                      {'description': 'Metformin may increase the hypoglycemic '\n",
      "                                      'activities of Glipizide.',\n",
      "                       'drugbank-id': 'DB01067',\n",
      "                       'name': 'Glipizide'},\n",
      "                      {'description': 'Metformin may increase the hypoglycemic '\n",
      "                                      'activities of Glyburide.',\n",
      "                       'drugbank-id': 'DB01016',\n",
      "                       'name': 'Glyburide'},\n",
      "                      {'description': 'The serum concentration of Metformin '\n",
      "                                      'can be increased when it is combined '\n",
      "                                      'with Glycopyrrolate.',\n",
      "                       'drugbank-id': 'DB00986',\n",
      "                       'name': 'Glycopyrrolate'},\n",
      "                      {'description': 'The therapeutic efficacy of Metformin '\n",
      "                                      'can be decreased when used in '\n",
      "                                      'combination with Goserelin.',\n",
      "                       'drugbank-id': 'DB00014',\n",
      "                       'name': 'Goserelin'},\n",
      "                      {'description': 'Heptabarbital may increase the '\n",
      "                                      'hypotensive activities of Metformin.',\n",
      "                       'drugbank-id': 'DB01354',\n",
      "                       'name': 'Heptabarbital'},\n",
      "                      {'description': 'Hexobarbital may increase the '\n",
      "                                      'hypotensive activities of Metformin.',\n",
      "                       'drugbank-id': 'DB01355',\n",
      "                       'name': 'Hexobarbital'},\n",
      "                      {'description': 'The therapeutic efficacy of Metformin '\n",
      "                                      'can be decreased when used in '\n",
      "                                      'combination with Histrelin.',\n",
      "                       'drugbank-id': 'DB06788',\n",
      "                       'name': 'Histrelin'},\n",
      "                      {'description': 'The therapeutic efficacy of Metformin '\n",
      "                                      'can be decreased when used in '\n",
      "                                      'combination with Hydrochlorothiazide.',\n",
      "                       'drugbank-id': 'DB00999',\n",
      "                       'name': 'Hydrochlorothiazide'},\n",
      "                      {'description': 'The therapeutic efficacy of Metformin '\n",
      "                                      'can be decreased when used in '\n",
      "                                      'combination with Hydrocortisone.',\n",
      "                       'drugbank-id': 'DB00741',\n",
      "                       'name': 'Hydrocortisone'},\n",
      "                      {'description': 'The therapeutic efficacy of Metformin '\n",
      "                                      'can be decreased when used in '\n",
      "                                      'combination with Hydroxyprogesterone '\n",
      "                                      'caproate.',\n",
      "                       'drugbank-id': 'DB06789',\n",
      "                       'name': 'Hydroxyprogesterone caproate'},\n",
      "                      {'description': 'The therapeutic efficacy of Metformin '\n",
      "                                      'can be decreased when used in '\n",
      "                                      'combination with Iloperidone.',\n",
      "                       'drugbank-id': 'DB04946',\n",
      "                       'name': 'Iloperidone'},\n",
      "                      {'description': 'The therapeutic efficacy of Metformin '\n",
      "                                      'can be decreased when used in '\n",
      "                                      'combination with Indapamide.',\n",
      "                       'drugbank-id': 'DB00808',\n",
      "                       'name': 'Indapamide'},\n",
      "                      {'description': 'The therapeutic efficacy of Metformin '\n",
      "                                      'can be decreased when used in '\n",
      "                                      'combination with Indinavir.',\n",
      "                       'drugbank-id': 'DB00224',\n",
      "                       'name': 'Indinavir'},\n",
      "                      {'description': 'Metformin may increase the hypoglycemic '\n",
      "                                      'activities of Insulin Aspart.',\n",
      "                       'drugbank-id': 'DB01306',\n",
      "                       'name': 'Insulin Aspart'},\n",
      "                      {'description': 'Metformin may increase the hypoglycemic '\n",
      "                                      'activities of Insulin degludec.',\n",
      "                       'drugbank-id': 'DB09564',\n",
      "                       'name': 'Insulin Degludec'},\n",
      "                      {'description': 'Metformin may increase the hypoglycemic '\n",
      "                                      'activities of Insulin Detemir.',\n",
      "                       'drugbank-id': 'DB01307',\n",
      "                       'name': 'Insulin Detemir'},\n",
      "                      {'description': 'Metformin may increase the hypoglycemic '\n",
      "                                      'activities of Insulin Glargine.',\n",
      "                       'drugbank-id': 'DB00047',\n",
      "                       'name': 'Insulin Glargine'},\n",
      "                      {'description': 'Metformin may increase the hypoglycemic '\n",
      "                                      'activities of Insulin Glulisine.',\n",
      "                       'drugbank-id': 'DB01309',\n",
      "                       'name': 'Insulin Glulisine'},\n",
      "                      {'description': 'Metformin may increase the hypoglycemic '\n",
      "                                      'activities of Insulin Regular.',\n",
      "                       'drugbank-id': 'DB00030',\n",
      "                       'name': 'Insulin Human'},\n",
      "                      {'description': 'Metformin may increase the hypoglycemic '\n",
      "                                      'activities of Insulin Lispro.',\n",
      "                       'drugbank-id': 'DB00046',\n",
      "                       'name': 'Insulin Lispro'},\n",
      "                      {'description': 'The risk or severity of adverse effects '\n",
      "                                      'can be increased when Iodipamide is '\n",
      "                                      'combined with Metformin.',\n",
      "                       'drugbank-id': 'DB04711',\n",
      "                       'name': 'Iodipamide'},\n",
      "                      {'description': 'The risk or severity of adverse effects '\n",
      "                                      'can be increased when Iodixanol is '\n",
      "                                      'combined with Metformin.',\n",
      "                       'drugbank-id': 'DB01249',\n",
      "                       'name': 'Iodixanol'},\n",
      "                      {'description': 'The risk or severity of adverse effects '\n",
      "                                      'can be increased when Iohexol is '\n",
      "                                      'combined with Metformin.',\n",
      "                       'drugbank-id': 'DB01362',\n",
      "                       'name': 'Iohexol'},\n",
      "                      {'description': 'The risk or severity of adverse effects '\n",
      "                                      'can be increased when Iopamidol is '\n",
      "                                      'combined with Metformin.',\n",
      "                       'drugbank-id': 'DB08947',\n",
      "                       'name': 'Iopamidol'},\n",
      "                      {'description': 'The risk or severity of adverse effects '\n",
      "                                      'can be increased when Iopromide is '\n",
      "                                      'combined with Metformin.',\n",
      "                       'drugbank-id': 'DB09156',\n",
      "                       'name': 'Iopromide'},\n",
      "                      {'description': 'The risk or severity of adverse effects '\n",
      "                                      'can be increased when Ioversol is '\n",
      "                                      'combined with Metformin.',\n",
      "                       'drugbank-id': 'DB09134',\n",
      "                       'name': 'Ioversol'},\n",
      "                      {'description': 'The risk or severity of adverse effects '\n",
      "                                      'can be increased when Ioxilan is '\n",
      "                                      'combined with Metformin.',\n",
      "                       'drugbank-id': 'DB09135',\n",
      "                       'name': 'Ioxilan'},\n",
      "                      {'description': 'The serum concentration of Metformin '\n",
      "                                      'can be increased when it is combined '\n",
      "                                      'with Lamotrigine.',\n",
      "                       'drugbank-id': 'DB00555',\n",
      "                       'name': 'Lamotrigine'},\n",
      "                      {'description': 'Metformin may increase the hypoglycemic '\n",
      "                                      'activities of Lanreotide.',\n",
      "                       'drugbank-id': 'DB06791',\n",
      "                       'name': 'Lanreotide'},\n",
      "                      {'description': 'The therapeutic efficacy of Metformin '\n",
      "                                      'can be decreased when used in '\n",
      "                                      'combination with Leuprolide.',\n",
      "                       'drugbank-id': 'DB00007',\n",
      "                       'name': 'Leuprolide'},\n",
      "                      {'description': 'The therapeutic efficacy of Metformin '\n",
      "                                      'can be decreased when used in '\n",
      "                                      'combination with Levonorgestrel.',\n",
      "                       'drugbank-id': 'DB00367',\n",
      "                       'name': 'Levonorgestrel'},\n",
      "                      {'description': 'Lipoic Acid may increase the '\n",
      "                                      'hypoglycemic activities of Metformin.',\n",
      "                       'drugbank-id': 'DB00166',\n",
      "                       'name': 'Lipoic Acid'},\n",
      "                      {'description': 'The therapeutic efficacy of Metformin '\n",
      "                                      'can be decreased when used in '\n",
      "                                      'combination with Lopinavir.',\n",
      "                       'drugbank-id': 'DB01601',\n",
      "                       'name': 'Lopinavir'},\n",
      "                      {'description': 'The therapeutic efficacy of Metformin '\n",
      "                                      'can be decreased when used in '\n",
      "                                      'combination with Lurasidone.',\n",
      "                       'drugbank-id': 'DB08815',\n",
      "                       'name': 'Lurasidone'},\n",
      "                      {'description': 'Metformin may increase the hypoglycemic '\n",
      "                                      'activities of Mecasermin.',\n",
      "                       'drugbank-id': 'DB01277',\n",
      "                       'name': 'Mecasermin'},\n",
      "                      {'description': 'The therapeutic efficacy of Metformin '\n",
      "                                      'can be decreased when used in '\n",
      "                                      'combination with Medroxyprogesterone '\n",
      "                                      'Acetate.',\n",
      "                       'drugbank-id': 'DB00603',\n",
      "                       'name': 'Medroxyprogesterone Acetate'},\n",
      "                      {'description': 'The therapeutic efficacy of Metformin '\n",
      "                                      'can be decreased when used in '\n",
      "                                      'combination with Megestrol acetate.',\n",
      "                       'drugbank-id': 'DB00351',\n",
      "                       'name': 'Megestrol acetate'},\n",
      "                      {'description': 'The therapeutic efficacy of Metformin '\n",
      "                                      'can be decreased when used in '\n",
      "                                      'combination with Mestranol.',\n",
      "                       'drugbank-id': 'DB01357',\n",
      "                       'name': 'Mestranol'},\n",
      "                      {'description': 'The risk or severity of adverse effects '\n",
      "                                      'can be increased when Methazolamide is '\n",
      "                                      'combined with Metformin.',\n",
      "                       'drugbank-id': 'DB00703',\n",
      "                       'name': 'Methazolamide'},\n",
      "                      {'description': 'Methohexital may increase the '\n",
      "                                      'hypotensive activities of Metformin.',\n",
      "                       'drugbank-id': 'DB00474',\n",
      "                       'name': 'Methohexital'},\n",
      "                      {'description': 'The therapeutic efficacy of Metformin '\n",
      "                                      'can be decreased when used in '\n",
      "                                      'combination with Methotrimeprazine.',\n",
      "                       'drugbank-id': 'DB01403',\n",
      "                       'name': 'Methotrimeprazine'},\n",
      "                      {'description': 'The therapeutic efficacy of Metformin '\n",
      "                                      'can be decreased when used in '\n",
      "                                      'combination with Methyclothiazide.',\n",
      "                       'drugbank-id': 'DB00232',\n",
      "                       'name': 'Methyclothiazide'},\n",
      "                      {'description': 'The therapeutic efficacy of Metformin '\n",
      "                                      'can be decreased when used in '\n",
      "                                      'combination with Methylprednisolone.',\n",
      "                       'drugbank-id': 'DB00959',\n",
      "                       'name': 'Methylprednisolone'},\n",
      "                      {'description': 'The therapeutic efficacy of Metformin '\n",
      "                                      'can be decreased when used in '\n",
      "                                      'combination with Metolazone.',\n",
      "                       'drugbank-id': 'DB00524',\n",
      "                       'name': 'Metolazone'},\n",
      "                      {'description': 'Metformin may increase the hypoglycemic '\n",
      "                                      'activities of Mifepristone.',\n",
      "                       'drugbank-id': 'DB00834',\n",
      "                       'name': 'Mifepristone'},\n",
      "                      {'description': 'The therapeutic efficacy of Metformin '\n",
      "                                      'can be decreased when used in '\n",
      "                                      'combination with Nadolol.',\n",
      "                       'drugbank-id': 'DB01203',\n",
      "                       'name': 'Nadolol'},\n",
      "                      {'description': 'Metformin may increase the hypoglycemic '\n",
      "                                      'activities of Nateglinide.',\n",
      "                       'drugbank-id': 'DB00731',\n",
      "                       'name': 'Nateglinide'},\n",
      "                      {'description': 'The therapeutic efficacy of Metformin '\n",
      "                                      'can be decreased when used in '\n",
      "                                      'combination with Nelfinavir.',\n",
      "                       'drugbank-id': 'DB00220',\n",
      "                       'name': 'Nelfinavir'},\n",
      "                      {'description': 'The therapeutic efficacy of Metformin '\n",
      "                                      'can be decreased when used in '\n",
      "                                      'combination with Niacin.',\n",
      "                       'drugbank-id': 'DB00627',\n",
      "                       'name': 'Niacin'},\n",
      "                      {'description': 'Nicorandil may increase the hypotensive '\n",
      "                                      'activities of Metformin.',\n",
      "                       'drugbank-id': 'DB09220',\n",
      "                       'name': 'Nicorandil'},\n",
      "                      {'description': 'The therapeutic efficacy of Metformin '\n",
      "                                      'can be decreased when used in '\n",
      "                                      'combination with Nilotinib.',\n",
      "                       'drugbank-id': 'DB04868',\n",
      "                       'name': 'Nilotinib'},\n",
      "                      {'description': 'The therapeutic efficacy of Metformin '\n",
      "                                      'can be decreased when used in '\n",
      "                                      'combination with Norethindrone.',\n",
      "                       'drugbank-id': 'DB00717',\n",
      "                       'name': 'Norethisterone'},\n",
      "                      {'description': 'The therapeutic efficacy of Metformin '\n",
      "                                      'can be decreased when used in '\n",
      "                                      'combination with Norgestimate.',\n",
      "                       'drugbank-id': 'DB00957',\n",
      "                       'name': 'Norgestimate'},\n",
      "                      {'description': 'Metformin may increase the hypoglycemic '\n",
      "                                      'activities of Octreotide.',\n",
      "                       'drugbank-id': 'DB00104',\n",
      "                       'name': 'Octreotide'},\n",
      "                      {'description': 'The therapeutic efficacy of Metformin '\n",
      "                                      'can be decreased when used in '\n",
      "                                      'combination with Olanzapine.',\n",
      "                       'drugbank-id': 'DB00334',\n",
      "                       'name': 'Olanzapine'},\n",
      "                      {'description': 'Oxandrolone may increase the '\n",
      "                                      'hypoglycemic activities of Metformin.',\n",
      "                       'drugbank-id': 'DB00621',\n",
      "                       'name': 'Oxandrolone'},\n",
      "                      {'description': 'The therapeutic efficacy of Metformin '\n",
      "                                      'can be decreased when used in '\n",
      "                                      'combination with Paliperidone.',\n",
      "                       'drugbank-id': 'DB01267',\n",
      "                       'name': 'Paliperidone'},\n",
      "                      {'description': 'Paroxetine may increase the '\n",
      "                                      'hypoglycemic activities of Metformin.',\n",
      "                       'drugbank-id': 'DB00715',\n",
      "                       'name': 'Paroxetine'},\n",
      "                      {'description': 'Metformin may increase the hypoglycemic '\n",
      "                                      'activities of Pasireotide.',\n",
      "                       'drugbank-id': 'DB06663',\n",
      "                       'name': 'Pasireotide'},\n",
      "                      {'description': 'Pegvisomant may increase the '\n",
      "                                      'hypoglycemic activities of Metformin.',\n",
      "                       'drugbank-id': 'DB00082',\n",
      "                       'name': 'Pegvisomant'},\n",
      "                      {'description': 'Metformin may increase the hypoglycemic '\n",
      "                                      'activities of Pentamidine.',\n",
      "                       'drugbank-id': 'DB00738',\n",
      "                       'name': 'Pentamidine'},\n",
      "                      {'description': 'Pentobarbital may increase the '\n",
      "                                      'hypotensive activities of Metformin.',\n",
      "                       'drugbank-id': 'DB00312',\n",
      "                       'name': 'Pentobarbital'},\n",
      "                      {'description': 'Metformin may increase the hyperkalemic '\n",
      "                                      'activities of Perindopril.',\n",
      "                       'drugbank-id': 'DB00790',\n",
      "                       'name': 'Perindopril'},\n",
      "                      {'description': 'Phenelzine may increase the '\n",
      "                                      'hypoglycemic activities of Metformin.',\n",
      "                       'drugbank-id': 'DB00780',\n",
      "                       'name': 'Phenelzine'},\n",
      "                      {'description': 'The therapeutic efficacy of Metformin '\n",
      "                                      'can be decreased when used in '\n",
      "                                      'combination with Pipotiazine.',\n",
      "                       'drugbank-id': 'DB01621',\n",
      "                       'name': 'Pipotiazine'},\n",
      "                      {'description': 'The therapeutic efficacy of Metformin '\n",
      "                                      'can be decreased when used in '\n",
      "                                      'combination with Prednisolone.',\n",
      "                       'drugbank-id': 'DB00860',\n",
      "                       'name': 'Prednisolone'},\n",
      "                      {'description': 'The therapeutic efficacy of Metformin '\n",
      "                                      'can be decreased when used in '\n",
      "                                      'combination with Prednisone.',\n",
      "                       'drugbank-id': 'DB00635',\n",
      "                       'name': 'Prednisone'},\n",
      "                      {'description': 'Primidone may increase the hypotensive '\n",
      "                                      'activities of Metformin.',\n",
      "                       'drugbank-id': 'DB00794',\n",
      "                       'name': 'Primidone'},\n",
      "                      {'description': 'The therapeutic efficacy of Metformin '\n",
      "                                      'can be decreased when used in '\n",
      "                                      'combination with Progesterone.',\n",
      "                       'drugbank-id': 'DB00396',\n",
      "                       'name': 'Progesterone'},\n",
      "                      {'description': 'The therapeutic efficacy of Metformin '\n",
      "                                      'can be decreased when used in '\n",
      "                                      'combination with Quetiapine.',\n",
      "                       'drugbank-id': 'DB01224',\n",
      "                       'name': 'Quetiapine'},\n",
      "                      {'description': 'Metformin may increase the hypoglycemic '\n",
      "                                      'activities of Quinine.',\n",
      "                       'drugbank-id': 'DB00468',\n",
      "                       'name': 'Quinine'},\n",
      "                      {'description': 'The serum concentration of Metformin '\n",
      "                                      'can be increased when it is combined '\n",
      "                                      'with Ranolazine.',\n",
      "                       'drugbank-id': 'DB00243',\n",
      "                       'name': 'Ranolazine'},\n",
      "                      {'description': 'Metformin may increase the hypoglycemic '\n",
      "                                      'activities of Repaglinide.',\n",
      "                       'drugbank-id': 'DB00912',\n",
      "                       'name': 'Repaglinide'},\n",
      "                      {'description': 'The therapeutic efficacy of Metformin '\n",
      "                                      'can be decreased when used in '\n",
      "                                      'combination with Repository '\n",
      "                                      'corticotropin.',\n",
      "                       'drugbank-id': 'DB09547',\n",
      "                       'name': 'Repository corticotropin'},\n",
      "                      {'description': 'The therapeutic efficacy of Metformin '\n",
      "                                      'can be decreased when used in '\n",
      "                                      'combination with Risperidone.',\n",
      "                       'drugbank-id': 'DB00734',\n",
      "                       'name': 'Risperidone'},\n",
      "                      {'description': 'The therapeutic efficacy of Metformin '\n",
      "                                      'can be decreased when used in '\n",
      "                                      'combination with Ritonavir.',\n",
      "                       'drugbank-id': 'DB00503',\n",
      "                       'name': 'Ritonavir'},\n",
      "                      {'description': 'The therapeutic efficacy of Metformin '\n",
      "                                      'can be decreased when used in '\n",
      "                                      'combination with Saquinavir.',\n",
      "                       'drugbank-id': 'DB01232',\n",
      "                       'name': 'Saquinavir'},\n",
      "                      {'description': 'Secobarbital may increase the '\n",
      "                                      'hypotensive activities of Metformin.',\n",
      "                       'drugbank-id': 'DB00418',\n",
      "                       'name': 'Secobarbital'},\n",
      "                      {'description': 'The therapeutic efficacy of Metformin '\n",
      "                                      'can be decreased when used in '\n",
      "                                      'combination with Sirolimus.',\n",
      "                       'drugbank-id': 'DB00877',\n",
      "                       'name': 'Sirolimus'},\n",
      "                      {'description': 'Sparfloxacin may increase the '\n",
      "                                      'hypoglycemic activities of Metformin.',\n",
      "                       'drugbank-id': 'DB01208',\n",
      "                       'name': 'Sparfloxacin'},\n",
      "                      {'description': 'The serum concentration of Metformin '\n",
      "                                      'can be decreased when it is combined '\n",
      "                                      'with St. John&#39;s Wort.',\n",
      "                       'drugbank-id': 'DB01323',\n",
      "                       'name': \"St. John's Wort\"},\n",
      "                      {'description': 'Metformin may increase the hypoglycemic '\n",
      "                                      'activities of Sulfadiazine.',\n",
      "                       'drugbank-id': 'DB00359',\n",
      "                       'name': 'Sulfadiazine'},\n",
      "                      {'description': 'Metformin may increase the hypoglycemic '\n",
      "                                      'activities of Sulfamethoxazole.',\n",
      "                       'drugbank-id': 'DB01015',\n",
      "                       'name': 'Sulfamethoxazole'},\n",
      "                      {'description': 'Metformin may increase the hypoglycemic '\n",
      "                                      'activities of Sulfisoxazole.',\n",
      "                       'drugbank-id': 'DB00263',\n",
      "                       'name': 'Sulfisoxazole'},\n",
      "                      {'description': 'Metformin may increase the hypoglycemic '\n",
      "                                      'activities of Sunitinib.',\n"
     ]
    },
    {
     "name": "stdout",
     "output_type": "stream",
     "text": [
      "                       'drugbank-id': 'DB01268',\n",
      "                       'name': 'Sunitinib'},\n",
      "                      {'description': 'The therapeutic efficacy of Metformin '\n",
      "                                      'can be decreased when used in '\n",
      "                                      'combination with Tacrolimus.',\n",
      "                       'drugbank-id': 'DB00864',\n",
      "                       'name': 'Tacrolimus'},\n",
      "                      {'description': 'The therapeutic efficacy of Metformin '\n",
      "                                      'can be decreased when used in '\n",
      "                                      'combination with Temsirolimus.',\n",
      "                       'drugbank-id': 'DB06287',\n",
      "                       'name': 'Temsirolimus'},\n",
      "                      {'description': 'Testosterone may increase the '\n",
      "                                      'hypoglycemic activities of Metformin.',\n",
      "                       'drugbank-id': 'DB00624',\n",
      "                       'name': 'Testosterone'},\n",
      "                      {'description': 'The therapeutic efficacy of Metformin '\n",
      "                                      'can be decreased when used in '\n",
      "                                      'combination with Tipranavir.',\n",
      "                       'drugbank-id': 'DB00932',\n",
      "                       'name': 'Tipranavir'},\n",
      "                      {'description': 'Metformin may increase the hypoglycemic '\n",
      "                                      'activities of Tolazamide.',\n",
      "                       'drugbank-id': 'DB00839',\n",
      "                       'name': 'Tolazamide'},\n",
      "                      {'description': 'Metformin may increase the hypoglycemic '\n",
      "                                      'activities of Tolbutamide.',\n",
      "                       'drugbank-id': 'DB01124',\n",
      "                       'name': 'Tolbutamide'},\n",
      "                      {'description': 'The risk or severity of adverse effects '\n",
      "                                      'can be increased when Topiramate is '\n",
      "                                      'combined with Metformin.',\n",
      "                       'drugbank-id': 'DB00273',\n",
      "                       'name': 'Topiramate'},\n",
      "                      {'description': 'The therapeutic efficacy of Metformin '\n",
      "                                      'can be decreased when used in '\n",
      "                                      'combination with Torasemide.',\n",
      "                       'drugbank-id': 'DB00214',\n",
      "                       'name': 'Torasemide'},\n",
      "                      {'description': 'Tranylcypromine may increase the '\n",
      "                                      'hypoglycemic activities of Metformin.',\n",
      "                       'drugbank-id': 'DB00752',\n",
      "                       'name': 'Tranylcypromine'},\n",
      "                      {'description': 'The therapeutic efficacy of Metformin '\n",
      "                                      'can be decreased when used in '\n",
      "                                      'combination with Triamcinolone.',\n",
      "                       'drugbank-id': 'DB00620',\n",
      "                       'name': 'Triamcinolone'},\n",
      "                      {'description': 'Metformin may increase the hyperkalemic '\n",
      "                                      'activities of Triamterene.',\n",
      "                       'drugbank-id': 'DB00384',\n",
      "                       'name': 'Triamterene'},\n",
      "                      {'description': 'The therapeutic efficacy of Metformin '\n",
      "                                      'can be decreased when used in '\n",
      "                                      'combination with Trichlormethiazide.',\n",
      "                       'drugbank-id': 'DB01021',\n",
      "                       'name': 'Trichlormethiazide'},\n",
      "                      {'description': 'The serum concentration of Metformin '\n",
      "                                      'can be increased when it is combined '\n",
      "                                      'with Trimethoprim.',\n",
      "                       'drugbank-id': 'DB00440',\n",
      "                       'name': 'Trimethoprim'},\n",
      "                      {'description': 'The therapeutic efficacy of Metformin '\n",
      "                                      'can be decreased when used in '\n",
      "                                      'combination with Triptorelin.',\n",
      "                       'drugbank-id': 'DB06825',\n",
      "                       'name': 'Triptorelin'},\n",
      "                      {'description': 'The serum concentration of Trospium can '\n",
      "                                      'be decreased when it is combined with '\n",
      "                                      'Metformin.',\n",
      "                       'drugbank-id': 'DB00209',\n",
      "                       'name': 'Trospium'},\n",
      "                      {'description': 'Metformin may increase the hyperkalemic '\n",
      "                                      'activities of Valsartan.',\n",
      "                       'drugbank-id': 'DB00177',\n",
      "                       'name': 'Valsartan'},\n",
      "                      {'description': 'The serum concentration of Metformin '\n",
      "                                      'can be increased when it is combined '\n",
      "                                      'with Vandetanib.',\n",
      "                       'drugbank-id': 'DB05294',\n",
      "                       'name': 'Vandetanib'},\n",
      "                      {'description': 'The therapeutic efficacy of Metformin '\n",
      "                                      'can be decreased when used in '\n",
      "                                      'combination with Verapamil.',\n",
      "                       'drugbank-id': 'DB00661',\n",
      "                       'name': 'Verapamil'},\n",
      "                      {'description': 'The therapeutic efficacy of Metformin '\n",
      "                                      'can be decreased when used in '\n",
      "                                      'combination with Vorinostat.',\n",
      "                       'drugbank-id': 'DB02546',\n",
      "                       'name': 'Vorinostat'},\n",
      "                      {'description': 'The therapeutic efficacy of Metformin '\n",
      "                                      'can be decreased when used in '\n",
      "                                      'combination with Ziprasidone.',\n",
      "                       'drugbank-id': 'DB00246',\n",
      "                       'name': 'Ziprasidone'},\n",
      "                      {'description': 'The risk or severity of adverse effects '\n",
      "                                      'can be increased when Zonisamide is '\n",
      "                                      'combined with Metformin.',\n",
      "                       'drugbank-id': 'DB00909',\n",
      "                       'name': 'Zonisamide'}]}\n"
     ]
    }
   ],
   "source": [
    "pprint.pprint(interactions['Metformin'])"
   ]
  },
  {
   "cell_type": "code",
   "execution_count": 45,
   "metadata": {},
   "outputs": [
    {
     "data": {
      "text/html": [
       "<div>\n",
       "<style>\n",
       "    .dataframe thead tr:only-child th {\n",
       "        text-align: right;\n",
       "    }\n",
       "\n",
       "    .dataframe thead th {\n",
       "        text-align: left;\n",
       "    }\n",
       "\n",
       "    .dataframe tbody tr th {\n",
       "        vertical-align: top;\n",
       "    }\n",
       "</style>\n",
       "<table border=\"1\" class=\"dataframe\">\n",
       "  <thead>\n",
       "    <tr style=\"text-align: right;\">\n",
       "      <th></th>\n",
       "      <th>stitch_id1</th>\n",
       "      <th>stitch_id2</th>\n",
       "      <th>drug1</th>\n",
       "      <th>drug2</th>\n",
       "      <th>event_umls_id</th>\n",
       "      <th>event_name</th>\n",
       "      <th>proportional_reporting_ratio</th>\n",
       "      <th>pvalue</th>\n",
       "      <th>confidence</th>\n",
       "      <th>drug1_prr</th>\n",
       "      <th>drug2_prr</th>\n",
       "      <th>observed</th>\n",
       "      <th>expected</th>\n",
       "    </tr>\n",
       "  </thead>\n",
       "  <tbody>\n",
       "    <tr>\n",
       "      <th>0</th>\n",
       "      <td>CID000000085</td>\n",
       "      <td>CID000000206</td>\n",
       "      <td>carnitine</td>\n",
       "      <td>galactose</td>\n",
       "      <td>C0004623</td>\n",
       "      <td>Bacterial infection</td>\n",
       "      <td>69.946875</td>\n",
       "      <td>1.877449e-322</td>\n",
       "      <td>5</td>\n",
       "      <td>14.7692307692308</td>\n",
       "      <td>6.65499999993345</td>\n",
       "      <td>0.2487</td>\n",
       "      <td>0.003556</td>\n",
       "    </tr>\n",
       "    <tr>\n",
       "      <th>1</th>\n",
       "      <td>CID000000085</td>\n",
       "      <td>CID000000206</td>\n",
       "      <td>carnitine</td>\n",
       "      <td>galactose</td>\n",
       "      <td>C0015967</td>\n",
       "      <td>body temperature increased</td>\n",
       "      <td>1.906807</td>\n",
       "      <td>5.407851e-54</td>\n",
       "      <td>3</td>\n",
       "      <td>\\N</td>\n",
       "      <td>\\N</td>\n",
       "      <td>0.1189</td>\n",
       "      <td>0.062356</td>\n",
       "    </tr>\n",
       "    <tr>\n",
       "      <th>2</th>\n",
       "      <td>CID000000085</td>\n",
       "      <td>CID000000206</td>\n",
       "      <td>carnitine</td>\n",
       "      <td>galactose</td>\n",
       "      <td>C0018932</td>\n",
       "      <td>haematochezia</td>\n",
       "      <td>72.510000</td>\n",
       "      <td>9.188845e-307</td>\n",
       "      <td>5</td>\n",
       "      <td>6.42696629213483</td>\n",
       "      <td>\\N</td>\n",
       "      <td>0.2417</td>\n",
       "      <td>0.003333</td>\n",
       "    </tr>\n",
       "    <tr>\n",
       "      <th>3</th>\n",
       "      <td>CID000000085</td>\n",
       "      <td>CID000000206</td>\n",
       "      <td>carnitine</td>\n",
       "      <td>galactose</td>\n",
       "      <td>C0020433</td>\n",
       "      <td>Bilirubinaemia</td>\n",
       "      <td>32.095775</td>\n",
       "      <td>0.000000e+00</td>\n",
       "      <td>5</td>\n",
       "      <td>5.74576271186441</td>\n",
       "      <td>2.67678018575271</td>\n",
       "      <td>0.2532</td>\n",
       "      <td>0.007889</td>\n",
       "    </tr>\n",
       "    <tr>\n",
       "      <th>4</th>\n",
       "      <td>CID000000085</td>\n",
       "      <td>CID000000206</td>\n",
       "      <td>carnitine</td>\n",
       "      <td>galactose</td>\n",
       "      <td>C0022346</td>\n",
       "      <td>icterus</td>\n",
       "      <td>27.000000</td>\n",
       "      <td>1.924980e-312</td>\n",
       "      <td>5</td>\n",
       "      <td>6.52173913043478</td>\n",
       "      <td>\\N</td>\n",
       "      <td>0.2574</td>\n",
       "      <td>0.009533</td>\n",
       "    </tr>\n",
       "  </tbody>\n",
       "</table>\n",
       "</div>"
      ],
      "text/plain": [
       "     stitch_id1    stitch_id2      drug1      drug2 event_umls_id  \\\n",
       "0  CID000000085  CID000000206  carnitine  galactose      C0004623   \n",
       "1  CID000000085  CID000000206  carnitine  galactose      C0015967   \n",
       "2  CID000000085  CID000000206  carnitine  galactose      C0018932   \n",
       "3  CID000000085  CID000000206  carnitine  galactose      C0020433   \n",
       "4  CID000000085  CID000000206  carnitine  galactose      C0022346   \n",
       "\n",
       "                   event_name  proportional_reporting_ratio         pvalue  \\\n",
       "0         Bacterial infection                     69.946875  1.877449e-322   \n",
       "1  body temperature increased                      1.906807   5.407851e-54   \n",
       "2               haematochezia                     72.510000  9.188845e-307   \n",
       "3              Bilirubinaemia                     32.095775   0.000000e+00   \n",
       "4                     icterus                     27.000000  1.924980e-312   \n",
       "\n",
       "   confidence         drug1_prr         drug2_prr  observed  expected  \n",
       "0           5  14.7692307692308  6.65499999993345    0.2487  0.003556  \n",
       "1           3                \\N                \\N    0.1189  0.062356  \n",
       "2           5  6.42696629213483                \\N    0.2417  0.003333  \n",
       "3           5  5.74576271186441  2.67678018575271    0.2532  0.007889  \n",
       "4           5  6.52173913043478                \\N    0.2574  0.009533  "
      ]
     },
     "execution_count": 45,
     "metadata": {},
     "output_type": "execute_result"
    }
   ],
   "source": [
    "from pandas import read_csv\n",
    "twosides = read_csv('3003377s-twosides.tsv', delimiter=\"\\t\")\n",
    "#print(twosides.describe())\n",
    "twosides.head()"
   ]
  },
  {
   "cell_type": "code",
   "execution_count": 153,
   "metadata": {},
   "outputs": [
    {
     "data": {
      "text/html": [
       "<div>\n",
       "<style>\n",
       "    .dataframe thead tr:only-child th {\n",
       "        text-align: right;\n",
       "    }\n",
       "\n",
       "    .dataframe thead th {\n",
       "        text-align: left;\n",
       "    }\n",
       "\n",
       "    .dataframe tbody tr th {\n",
       "        vertical-align: top;\n",
       "    }\n",
       "</style>\n",
       "<table border=\"1\" class=\"dataframe\">\n",
       "  <thead>\n",
       "    <tr style=\"text-align: right;\">\n",
       "      <th></th>\n",
       "      <th>stitch_id1</th>\n",
       "      <th>stitch_id2</th>\n",
       "      <th>drug1</th>\n",
       "      <th>drug2</th>\n",
       "      <th>event_umls_id</th>\n",
       "      <th>event_name</th>\n",
       "      <th>proportional_reporting_ratio</th>\n",
       "      <th>pvalue</th>\n",
       "      <th>confidence</th>\n",
       "      <th>drug1_prr</th>\n",
       "      <th>drug2_prr</th>\n",
       "      <th>observed</th>\n",
       "      <th>expected</th>\n",
       "    </tr>\n",
       "  </thead>\n",
       "  <tbody>\n",
       "    <tr>\n",
       "      <th>2859095</th>\n",
       "      <td>CID000004091</td>\n",
       "      <td>CID000004095</td>\n",
       "      <td>metformin</td>\n",
       "      <td>methadone</td>\n",
       "      <td>C0001122</td>\n",
       "      <td>Acidosis</td>\n",
       "      <td>11.857468</td>\n",
       "      <td>1.027073e-214</td>\n",
       "      <td>5</td>\n",
       "      <td>6.16205008085015</td>\n",
       "      <td>2.64994918700534</td>\n",
       "      <td>0.1662</td>\n",
       "      <td>0.014016</td>\n",
       "    </tr>\n",
       "    <tr>\n",
       "      <th>2859096</th>\n",
       "      <td>CID000004091</td>\n",
       "      <td>CID000004095</td>\n",
       "      <td>metformin</td>\n",
       "      <td>methadone</td>\n",
       "      <td>C0008031</td>\n",
       "      <td>chest pain</td>\n",
       "      <td>5.438159</td>\n",
       "      <td>1.494584e-183</td>\n",
       "      <td>5</td>\n",
       "      <td>\\N</td>\n",
       "      <td>\\N</td>\n",
       "      <td>0.1723</td>\n",
       "      <td>0.031684</td>\n",
       "    </tr>\n",
       "    <tr>\n",
       "      <th>2859097</th>\n",
       "      <td>CID000004091</td>\n",
       "      <td>CID000004095</td>\n",
       "      <td>metformin</td>\n",
       "      <td>methadone</td>\n",
       "      <td>C0009676</td>\n",
       "      <td>confusion</td>\n",
       "      <td>7.307856</td>\n",
       "      <td>6.912949e-201</td>\n",
       "      <td>5</td>\n",
       "      <td>\\N</td>\n",
       "      <td>\\N</td>\n",
       "      <td>0.1700</td>\n",
       "      <td>0.023263</td>\n",
       "    </tr>\n",
       "    <tr>\n",
       "      <th>2859098</th>\n",
       "      <td>CID000004091</td>\n",
       "      <td>CID000004095</td>\n",
       "      <td>metformin</td>\n",
       "      <td>methadone</td>\n",
       "      <td>C0011849</td>\n",
       "      <td>Diabetes</td>\n",
       "      <td>12.163149</td>\n",
       "      <td>6.457492e-217</td>\n",
       "      <td>5</td>\n",
       "      <td>2.14023017637327</td>\n",
       "      <td>\\N</td>\n",
       "      <td>0.1659</td>\n",
       "      <td>0.013640</td>\n",
       "    </tr>\n",
       "    <tr>\n",
       "      <th>2859099</th>\n",
       "      <td>CID000004091</td>\n",
       "      <td>CID000004095</td>\n",
       "      <td>metformin</td>\n",
       "      <td>methadone</td>\n",
       "      <td>C0013221</td>\n",
       "      <td>drug toxicity NOS</td>\n",
       "      <td>18.439586</td>\n",
       "      <td>1.770517e-243</td>\n",
       "      <td>5</td>\n",
       "      <td>\\N</td>\n",
       "      <td>2.61966044145076</td>\n",
       "      <td>0.1724</td>\n",
       "      <td>0.009349</td>\n",
       "    </tr>\n",
       "  </tbody>\n",
       "</table>\n",
       "</div>"
      ],
      "text/plain": [
       "           stitch_id1    stitch_id2      drug1      drug2 event_umls_id  \\\n",
       "2859095  CID000004091  CID000004095  metformin  methadone      C0001122   \n",
       "2859096  CID000004091  CID000004095  metformin  methadone      C0008031   \n",
       "2859097  CID000004091  CID000004095  metformin  methadone      C0009676   \n",
       "2859098  CID000004091  CID000004095  metformin  methadone      C0011849   \n",
       "2859099  CID000004091  CID000004095  metformin  methadone      C0013221   \n",
       "\n",
       "                event_name  proportional_reporting_ratio         pvalue  \\\n",
       "2859095           Acidosis                     11.857468  1.027073e-214   \n",
       "2859096         chest pain                      5.438159  1.494584e-183   \n",
       "2859097          confusion                      7.307856  6.912949e-201   \n",
       "2859098           Diabetes                     12.163149  6.457492e-217   \n",
       "2859099  drug toxicity NOS                     18.439586  1.770517e-243   \n",
       "\n",
       "         confidence         drug1_prr         drug2_prr  observed  expected  \n",
       "2859095           5  6.16205008085015  2.64994918700534    0.1662  0.014016  \n",
       "2859096           5                \\N                \\N    0.1723  0.031684  \n",
       "2859097           5                \\N                \\N    0.1700  0.023263  \n",
       "2859098           5  2.14023017637327                \\N    0.1659  0.013640  \n",
       "2859099           5                \\N  2.61966044145076    0.1724  0.009349  "
      ]
     },
     "execution_count": 153,
     "metadata": {},
     "output_type": "execute_result"
    }
   ],
   "source": [
    "twosides[(twosides['drug1'] == 'metformin') ].head() "
   ]
  },
  {
   "cell_type": "code",
   "execution_count": 155,
   "metadata": {},
   "outputs": [
    {
     "data": {
      "text/plain": [
       "ranitidine                  389\n",
       "nitroglycerin               356\n",
       "oxycodone                   333\n",
       "rofecoxib                   333\n",
       "prednisone                  332\n",
       "fluticasone                 332\n",
       "venlafaxine                 330\n",
       "olanzapine                  303\n",
       "paroxetine                  290\n",
       "zolpidem                    282\n",
       "KCl                         280\n",
       "omeprazole                  259\n",
       "simvastatin                 259\n",
       "ofloxacin                   259\n",
       "isosorbide-5-mononitrate    258\n",
       "risperidone                 249\n",
       "sildenafil                  246\n",
       "quinapril                   246\n",
       "quetiapine                  240\n",
       "pravastatin                 237\n",
       "tramadol                    234\n",
       "sertraline                  232\n",
       "warfarin                    229\n",
       "spironolactone              229\n",
       "pioglitazone                228\n",
       "pantoprazole                220\n",
       "valdecoxib                  220\n",
       "temazepam                   216\n",
       "metoclopramide              216\n",
       "tamsulosin                  216\n",
       "                           ... \n",
       "O-desmethylvenlafaxine       17\n",
       "glatiramer acetate           17\n",
       "fosamprenavir                17\n",
       "TMC114                       17\n",
       "mupirocin                    17\n",
       "DDAVP                        16\n",
       "dofetilide                   16\n",
       "vinorelbine                  16\n",
       "nitrazepam                   15\n",
       "atovaquone                   15\n",
       "nevirapine                   15\n",
       "saquinavir                   15\n",
       "retinoic acid                15\n",
       "gadoversetamide              14\n",
       "eletriptan                   14\n",
       "fulvestrant                  13\n",
       "riluzole                     13\n",
       "N-0437                       12\n",
       "gemifloxacin                 12\n",
       "zidovudine                   12\n",
       "valganciclovir               10\n",
       "mitoxantrone                  9\n",
       "verteporfin                   8\n",
       "selegiline                    8\n",
       "oseltamivir                   8\n",
       "rifaximin                     8\n",
       "oxandrolone                   7\n",
       "sevoflurane                   6\n",
       "dasatinib                     6\n",
       "tirofiban                     4\n",
       "Name: drug2, Length: 253, dtype: int64"
      ]
     },
     "execution_count": 155,
     "metadata": {},
     "output_type": "execute_result"
    }
   ],
   "source": [
    "twosides[(twosides['drug1'] == 'metformin')]['drug2'].value_counts()"
   ]
  },
  {
   "cell_type": "code",
   "execution_count": 193,
   "metadata": {
    "collapsed": true
   },
   "outputs": [],
   "source": [
    "def check_interaction(drug1, drug2):\n",
    "    if twosides[(twosides['drug1'] == drug1) & (twosides['drug2'] == drug2) | \n",
    "         (twosides['drug2'] == drug1) & (twosides['drug1'] == drug2)].empty:\n",
    "        result = None\n",
    "    else:\n",
    "        twosides_subset = twosides[(twosides['drug1'] == drug1) & (twosides['drug2'] == drug2) | \n",
    "         (twosides['drug2'] == drug1) & (twosides['drug1'] == drug2)]\n",
    "        twosides_subset = twosides_subset.sort_values('proportional_reporting_ratio', ascending=False)\n",
    "        dct = dict(zip( twosides_subset['event_umls_id'], twosides_subset['proportional_reporting_ratio'].round(2) ))\n",
    "        #result = 1\n",
    "        result = dct\n",
    "        \n",
    "    return result"
   ]
  },
  {
   "cell_type": "code",
   "execution_count": 59,
   "metadata": {},
   "outputs": [
    {
     "data": {
      "text/plain": [
       "['Porfimer', 'Phenmetrazine']"
      ]
     },
     "execution_count": 59,
     "metadata": {},
     "output_type": "execute_result"
    }
   ],
   "source": [
    "list(interactions.keys())[0:2]"
   ]
  },
  {
   "cell_type": "code",
   "execution_count": 49,
   "metadata": {},
   "outputs": [
    {
     "data": {
      "text/plain": [
       "1474"
      ]
     },
     "execution_count": 49,
     "metadata": {},
     "output_type": "execute_result"
    }
   ],
   "source": [
    "len(interactions.keys())"
   ]
  },
  {
   "cell_type": "code",
   "execution_count": null,
   "metadata": {
    "collapsed": true
   },
   "outputs": [],
   "source": []
  },
  {
   "cell_type": "code",
   "execution_count": 229,
   "metadata": {},
   "outputs": [
    {
     "name": "stdout",
     "output_type": "stream",
     "text": [
      "163\n",
      "metformin acetazolamide The risk or severity of adverse effects can be increased when Acetazolamide is combined with Metformin.\n",
      "metformin acetylsalicylic acid Acetylsalicylic acid may increase the hypoglycemic activities of Metformin.\n",
      "metformin aldesleukin The risk or severity of adverse effects can be increased when Aldesleukin is combined with Metformin.\n",
      "metformin ardeparin Ardeparin may increase the hyperkalemic activities of Metformin.\n",
      "metformin aripiprazole The therapeutic efficacy of Metformin can be decreased when used in combination with Aripiprazole.\n",
      "metformin arsenic trioxide The therapeutic efficacy of Metformin can be decreased when used in combination with Arsenic trioxide.\n",
      "metformin articaine The therapeutic efficacy of Metformin can be decreased when used in combination with Articaine.\n",
      "metformin asenapine The therapeutic efficacy of Metformin can be decreased when used in combination with Asenapine.\n",
      "metformin atazanavir The therapeutic efficacy of Metformin can be decreased when used in combination with Atazanavir.\n",
      "metformin bendroflumethiazide The therapeutic efficacy of Metformin can be decreased when used in combination with Bendroflumethiazide.\n",
      "metformin betamethasone The therapeutic efficacy of Metformin can be decreased when used in combination with Betamethasone.\n",
      "metformin brexpiprazole The therapeutic efficacy of Metformin can be decreased when used in combination with Brexpiprazole.\n",
      "metformin bumetanide The therapeutic efficacy of Metformin can be decreased when used in combination with Bumetanide.\n",
      "metformin bupropion The serum concentration of Metformin can be increased when it is combined with Bupropion.\n",
      "metformin buserelin The therapeutic efficacy of Metformin can be decreased when used in combination with Buserelin.\n",
      "metformin butabarbital Butabarbital may increase the hypotensive activities of Metformin.\n",
      "metformin butethal Butethal may increase the hypotensive activities of Metformin.\n",
      "metformin cephalexin The serum concentration of Metformin can be increased when it is combined with Cephalexin.\n",
      "metformin ceritinib The therapeutic efficacy of Metformin can be decreased when used in combination with Ceritinib.\n",
      "metformin chlorothiazide The therapeutic efficacy of Metformin can be decreased when used in combination with Chlorothiazide.\n",
      "metformin chlorpropamide Metformin may increase the hypoglycemic activities of Chlorpropamide.\n",
      "metformin chlorthalidone The therapeutic efficacy of Metformin can be decreased when used in combination with Chlorthalidone.\n",
      "metformin cimetidine The serum concentration of Metformin can be increased when it is combined with Cimetidine.\n",
      "metformin clozapine The therapeutic efficacy of Metformin can be decreased when used in combination with Clozapine.\n",
      "metformin corticotropin The therapeutic efficacy of Metformin can be decreased when used in combination with Corticotropin.\n",
      "metformin cortisone acetate The therapeutic efficacy of Metformin can be decreased when used in combination with Cortisone acetate.\n",
      "metformin cyproterone acetate The therapeutic efficacy of Metformin can be decreased when used in combination with Cyproterone acetate.\n",
      "metformin dabrafenib The therapeutic efficacy of Metformin can be decreased when used in combination with Dabrafenib.\n",
      "metformin dalfampridine The serum concentration of Dalfampridine can be increased when it is combined with Metformin.\n",
      "metformin danazol The therapeutic efficacy of Metformin can be decreased when used in combination with Danazol.\n",
      "metformin darunavir The therapeutic efficacy of Metformin can be decreased when used in combination with Darunavir.\n",
      "metformin desogestrel The therapeutic efficacy of Metformin can be decreased when used in combination with Desogestrel.\n",
      "metformin dexamethasone The therapeutic efficacy of Metformin can be decreased when used in combination with Dexamethasone.\n",
      "metformin diazoxide The therapeutic efficacy of Metformin can be decreased when used in combination with Diazoxide.\n",
      "metformin diclofenamide The risk or severity of adverse effects can be increased when Diclofenamide is combined with Metformin.\n",
      "metformin dienogest The therapeutic efficacy of Metformin can be decreased when used in combination with Dienogest.\n",
      "metformin dihydrotestosterone Dihydrotestosterone may increase the hypoglycemic activities of Metformin.\n",
      "metformin disopyramide Metformin may increase the hypoglycemic activities of Disopyramide.\n",
      "metformin dofetilide The serum concentration of Dofetilide can be increased when it is combined with Metformin.\n",
      "metformin dolutegravir The serum concentration of Metformin can be increased when it is combined with Dolutegravir.\n",
      "metformin drospirenone The therapeutic efficacy of Metformin can be decreased when used in combination with Drospirenone.\n",
      "metformin epinephrine The therapeutic efficacy of Metformin can be decreased when used in combination with Epinephrine.\n",
      "metformin erythromycin Metformin may increase the hypoglycemic activities of Erythromycin.\n",
      "metformin estradiol The therapeutic efficacy of Metformin can be decreased when used in combination with Estradiol.\n",
      "metformin estropipate The therapeutic efficacy of Metformin can be decreased when used in combination with Estropipate.\n",
      "metformin ethacrynic acid The therapeutic efficacy of Metformin can be decreased when used in combination with Ethacrynic acid.\n",
      "metformin ethanol The risk or severity of adverse effects can be increased when Ethanol is combined with Metformin.\n",
      "metformin ethinyl estradiol The therapeutic efficacy of Metformin can be decreased when used in combination with Ethinyl Estradiol.\n",
      "metformin ethoxzolamide The risk or severity of adverse effects can be increased when Ethoxzolamide is combined with Metformin.\n",
      "metformin ethynodiol The therapeutic efficacy of Metformin can be decreased when used in combination with Ethynodiol.\n",
      "metformin etonogestrel The therapeutic efficacy of Metformin can be decreased when used in combination with Etonogestrel.\n",
      "metformin everolimus The therapeutic efficacy of Metformin can be decreased when used in combination with Everolimus.\n",
      "metformin fludrocortisone The therapeutic efficacy of Metformin can be decreased when used in combination with Fludrocortisone.\n",
      "metformin fosamprenavir The therapeutic efficacy of Metformin can be decreased when used in combination with Fosamprenavir.\n",
      "metformin furosemide The therapeutic efficacy of Metformin can be decreased when used in combination with Furosemide.\n",
      "metformin gliclazide Metformin may increase the hypoglycemic activities of Gliclazide.\n",
      "metformin glimepiride Metformin may increase the hypoglycemic activities of Glimepiride.\n",
      "metformin glipizide Metformin may increase the hypoglycemic activities of Glipizide.\n",
      "metformin glyburide Metformin may increase the hypoglycemic activities of Glyburide.\n",
      "metformin glycopyrrolate The serum concentration of Metformin can be increased when it is combined with Glycopyrrolate.\n",
      "metformin goserelin The therapeutic efficacy of Metformin can be decreased when used in combination with Goserelin.\n",
      "metformin heptabarbital Heptabarbital may increase the hypotensive activities of Metformin.\n",
      "metformin hexobarbital Hexobarbital may increase the hypotensive activities of Metformin.\n",
      "metformin histrelin The therapeutic efficacy of Metformin can be decreased when used in combination with Histrelin.\n",
      "metformin hydrochlorothiazide The therapeutic efficacy of Metformin can be decreased when used in combination with Hydrochlorothiazide.\n",
      "metformin hydrocortisone The therapeutic efficacy of Metformin can be decreased when used in combination with Hydrocortisone.\n",
      "metformin hydroxyprogesterone caproate The therapeutic efficacy of Metformin can be decreased when used in combination with Hydroxyprogesterone caproate.\n",
      "metformin iloperidone The therapeutic efficacy of Metformin can be decreased when used in combination with Iloperidone.\n",
      "metformin indapamide The therapeutic efficacy of Metformin can be decreased when used in combination with Indapamide.\n",
      "metformin indinavir The therapeutic efficacy of Metformin can be decreased when used in combination with Indinavir.\n",
      "metformin insulin aspart Metformin may increase the hypoglycemic activities of Insulin Aspart.\n",
      "metformin insulin degludec Metformin may increase the hypoglycemic activities of Insulin degludec.\n",
      "metformin insulin detemir Metformin may increase the hypoglycemic activities of Insulin Detemir.\n",
      "metformin insulin glargine Metformin may increase the hypoglycemic activities of Insulin Glargine.\n",
      "metformin insulin glulisine Metformin may increase the hypoglycemic activities of Insulin Glulisine.\n",
      "metformin insulin human Metformin may increase the hypoglycemic activities of Insulin Regular.\n",
      "metformin insulin lispro Metformin may increase the hypoglycemic activities of Insulin Lispro.\n",
      "metformin iodipamide The risk or severity of adverse effects can be increased when Iodipamide is combined with Metformin.\n",
      "metformin iodixanol The risk or severity of adverse effects can be increased when Iodixanol is combined with Metformin.\n",
      "metformin iohexol The risk or severity of adverse effects can be increased when Iohexol is combined with Metformin.\n",
      "metformin iopamidol The risk or severity of adverse effects can be increased when Iopamidol is combined with Metformin.\n",
      "metformin iopromide The risk or severity of adverse effects can be increased when Iopromide is combined with Metformin.\n",
      "metformin ioversol The risk or severity of adverse effects can be increased when Ioversol is combined with Metformin.\n",
      "metformin ioxilan The risk or severity of adverse effects can be increased when Ioxilan is combined with Metformin.\n",
      "metformin lamotrigine The serum concentration of Metformin can be increased when it is combined with Lamotrigine.\n",
      "metformin lanreotide Metformin may increase the hypoglycemic activities of Lanreotide.\n",
      "metformin leuprolide The therapeutic efficacy of Metformin can be decreased when used in combination with Leuprolide.\n",
      "metformin levonorgestrel The therapeutic efficacy of Metformin can be decreased when used in combination with Levonorgestrel.\n",
      "metformin lipoic acid Lipoic Acid may increase the hypoglycemic activities of Metformin.\n",
      "metformin lopinavir The therapeutic efficacy of Metformin can be decreased when used in combination with Lopinavir.\n",
      "metformin lurasidone The therapeutic efficacy of Metformin can be decreased when used in combination with Lurasidone.\n",
      "metformin mecasermin Metformin may increase the hypoglycemic activities of Mecasermin.\n",
      "metformin medroxyprogesterone acetate The therapeutic efficacy of Metformin can be decreased when used in combination with Medroxyprogesterone Acetate.\n",
      "metformin megestrol acetate The therapeutic efficacy of Metformin can be decreased when used in combination with Megestrol acetate.\n",
      "metformin mestranol The therapeutic efficacy of Metformin can be decreased when used in combination with Mestranol.\n",
      "metformin methazolamide The risk or severity of adverse effects can be increased when Methazolamide is combined with Metformin.\n",
      "metformin methohexital Methohexital may increase the hypotensive activities of Metformin.\n",
      "metformin methotrimeprazine The therapeutic efficacy of Metformin can be decreased when used in combination with Methotrimeprazine.\n",
      "metformin methyclothiazide The therapeutic efficacy of Metformin can be decreased when used in combination with Methyclothiazide.\n",
      "metformin methylprednisolone The therapeutic efficacy of Metformin can be decreased when used in combination with Methylprednisolone.\n",
      "metformin metolazone The therapeutic efficacy of Metformin can be decreased when used in combination with Metolazone.\n",
      "metformin mifepristone Metformin may increase the hypoglycemic activities of Mifepristone.\n",
      "metformin nadolol The therapeutic efficacy of Metformin can be decreased when used in combination with Nadolol.\n",
      "metformin nateglinide Metformin may increase the hypoglycemic activities of Nateglinide.\n",
      "metformin nelfinavir The therapeutic efficacy of Metformin can be decreased when used in combination with Nelfinavir.\n",
      "metformin niacin The therapeutic efficacy of Metformin can be decreased when used in combination with Niacin.\n",
      "metformin nicorandil Nicorandil may increase the hypotensive activities of Metformin.\n",
      "metformin nilotinib The therapeutic efficacy of Metformin can be decreased when used in combination with Nilotinib.\n",
      "metformin norethisterone The therapeutic efficacy of Metformin can be decreased when used in combination with Norethindrone.\n",
      "metformin norgestimate The therapeutic efficacy of Metformin can be decreased when used in combination with Norgestimate.\n",
      "metformin octreotide Metformin may increase the hypoglycemic activities of Octreotide.\n",
      "metformin olanzapine The therapeutic efficacy of Metformin can be decreased when used in combination with Olanzapine.\n",
      "metformin oxandrolone Oxandrolone may increase the hypoglycemic activities of Metformin.\n",
      "metformin paliperidone The therapeutic efficacy of Metformin can be decreased when used in combination with Paliperidone.\n",
      "metformin paroxetine Paroxetine may increase the hypoglycemic activities of Metformin.\n",
      "metformin pasireotide Metformin may increase the hypoglycemic activities of Pasireotide.\n",
      "metformin pegvisomant Pegvisomant may increase the hypoglycemic activities of Metformin.\n",
      "metformin pentamidine Metformin may increase the hypoglycemic activities of Pentamidine.\n",
      "metformin pentobarbital Pentobarbital may increase the hypotensive activities of Metformin.\n",
      "metformin perindopril Metformin may increase the hyperkalemic activities of Perindopril.\n",
      "metformin phenelzine Phenelzine may increase the hypoglycemic activities of Metformin.\n",
      "metformin pipotiazine The therapeutic efficacy of Metformin can be decreased when used in combination with Pipotiazine.\n",
      "metformin prednisolone The therapeutic efficacy of Metformin can be decreased when used in combination with Prednisolone.\n",
      "metformin prednisone The therapeutic efficacy of Metformin can be decreased when used in combination with Prednisone.\n",
      "metformin primidone Primidone may increase the hypotensive activities of Metformin.\n",
      "metformin progesterone The therapeutic efficacy of Metformin can be decreased when used in combination with Progesterone.\n",
      "metformin quetiapine The therapeutic efficacy of Metformin can be decreased when used in combination with Quetiapine.\n",
      "metformin quinine Metformin may increase the hypoglycemic activities of Quinine.\n",
      "metformin ranolazine The serum concentration of Metformin can be increased when it is combined with Ranolazine.\n",
      "metformin repaglinide Metformin may increase the hypoglycemic activities of Repaglinide.\n",
      "metformin repository corticotropin The therapeutic efficacy of Metformin can be decreased when used in combination with Repository corticotropin.\n",
      "metformin risperidone The therapeutic efficacy of Metformin can be decreased when used in combination with Risperidone.\n",
      "metformin ritonavir The therapeutic efficacy of Metformin can be decreased when used in combination with Ritonavir.\n",
      "metformin saquinavir The therapeutic efficacy of Metformin can be decreased when used in combination with Saquinavir.\n",
      "metformin secobarbital Secobarbital may increase the hypotensive activities of Metformin.\n",
      "metformin sirolimus The therapeutic efficacy of Metformin can be decreased when used in combination with Sirolimus.\n",
      "metformin sparfloxacin Sparfloxacin may increase the hypoglycemic activities of Metformin.\n",
      "metformin st. john's wort The serum concentration of Metformin can be decreased when it is combined with St. John&#39;s Wort.\n",
      "metformin sulfadiazine Metformin may increase the hypoglycemic activities of Sulfadiazine.\n",
      "metformin sulfamethoxazole Metformin may increase the hypoglycemic activities of Sulfamethoxazole.\n",
      "metformin sulfisoxazole Metformin may increase the hypoglycemic activities of Sulfisoxazole.\n",
      "metformin sunitinib Metformin may increase the hypoglycemic activities of Sunitinib.\n",
      "metformin tacrolimus The therapeutic efficacy of Metformin can be decreased when used in combination with Tacrolimus.\n",
      "metformin temsirolimus The therapeutic efficacy of Metformin can be decreased when used in combination with Temsirolimus.\n",
      "metformin testosterone Testosterone may increase the hypoglycemic activities of Metformin.\n",
      "metformin tipranavir The therapeutic efficacy of Metformin can be decreased when used in combination with Tipranavir.\n",
      "metformin tolazamide Metformin may increase the hypoglycemic activities of Tolazamide.\n"
     ]
    },
    {
     "name": "stdout",
     "output_type": "stream",
     "text": [
      "metformin tolbutamide Metformin may increase the hypoglycemic activities of Tolbutamide.\n",
      "metformin topiramate The risk or severity of adverse effects can be increased when Topiramate is combined with Metformin.\n",
      "metformin torasemide The therapeutic efficacy of Metformin can be decreased when used in combination with Torasemide.\n",
      "metformin tranylcypromine Tranylcypromine may increase the hypoglycemic activities of Metformin.\n",
      "metformin triamcinolone The therapeutic efficacy of Metformin can be decreased when used in combination with Triamcinolone.\n",
      "metformin triamterene Metformin may increase the hyperkalemic activities of Triamterene.\n",
      "metformin trichlormethiazide The therapeutic efficacy of Metformin can be decreased when used in combination with Trichlormethiazide.\n",
      "metformin trimethoprim The serum concentration of Metformin can be increased when it is combined with Trimethoprim.\n",
      "metformin triptorelin The therapeutic efficacy of Metformin can be decreased when used in combination with Triptorelin.\n",
      "metformin trospium The serum concentration of Trospium can be decreased when it is combined with Metformin.\n",
      "metformin valsartan Metformin may increase the hyperkalemic activities of Valsartan.\n",
      "metformin vandetanib The serum concentration of Metformin can be increased when it is combined with Vandetanib.\n",
      "metformin verapamil The therapeutic efficacy of Metformin can be decreased when used in combination with Verapamil.\n",
      "metformin vorinostat The therapeutic efficacy of Metformin can be decreased when used in combination with Vorinostat.\n",
      "metformin ziprasidone The therapeutic efficacy of Metformin can be decreased when used in combination with Ziprasidone.\n",
      "metformin zonisamide The risk or severity of adverse effects can be increased when Zonisamide is combined with Metformin.\n"
     ]
    }
   ],
   "source": [
    "import pandas as pd\n",
    "###Variant 2\n",
    "### Make dct of interactions as {drug1:{drug2:[description, {'event_umls_id':'proportional_reporting_ratio'}] }}\n",
    "dct_interact={}\n",
    "#for drug1_dbank in list(interactions.keys())[0:2]:\n",
    "for drug1_dbank in ['Metformin']:    \n",
    "    print(len(interactions[drug1_dbank]['drug-interaction']))\n",
    "    drug1 = drug1_dbank.lower()\n",
    "    dct_drug1_interactions={}\n",
    "    for dct_drug2_dbank in interactions[drug1_dbank]['drug-interaction']:\n",
    "        drug2_dbank = dct_drug2_dbank['name']\n",
    "        drug2 = drug2_dbank.lower()\n",
    "        description = dct_drug2_dbank['description']\n",
    "        dct_drug1_interactions[drug2] = [description , check_interaction(drug1, drug2)]\n",
    "        print(drug1, drug2, description)\n",
    "    dct_interact[drug1] = dct_drug1_interactions"
   ]
  },
  {
   "cell_type": "code",
   "execution_count": 230,
   "metadata": {
    "collapsed": true
   },
   "outputs": [],
   "source": [
    "#Drug1 Class\n",
    "lst_drug1_class=['metformin']\n",
    "#Check which drugs from this class have frank AE by interacting with Drug1 \n",
    "lst_drug2_class=['acetazolamide','aripiprazole','atazanavir','jhgj','metformin','acetylsalicylic acid']"
   ]
  },
  {
   "cell_type": "code",
   "execution_count": 245,
   "metadata": {
    "collapsed": true
   },
   "outputs": [],
   "source": [
    "def getdf_AE_drug1_drug2(drug1,drug2):\n",
    "    if (dct_interact[drug1][drug2][1] is not None):\n",
    "        dct_AE_drug1_drug2 = dct_interact[drug1][drug2][1]\n",
    "\n",
    "        df_AE_drug1_drug2 = pd.DataFrame()\n",
    "        df_AE_drug1_drug2['event_umls_id'] = dct_AE_drug1_drug2.keys()\n",
    "        df_AE_drug1_drug2['proportional_reporting_ratio'] = dct_AE_drug1_drug2.values()\n",
    "        df_AE_drug1_drug2 = df_AE_drug1_drug2.sort_values(['proportional_reporting_ratio'], ascending=False)\n",
    "        print('AE: ', drug2 + ' and ' + drug1 + ' interact and have reported AE associated with its interaction')\n",
    "        return df_AE_drug1_drug2\n",
    "    else:\n",
    "        print('AE: ',drug2 + ' and ' + drug1 + ' interact and have no reported AE associated with its interaction ' ) \n",
    "        return None"
   ]
  },
  {
   "cell_type": "code",
   "execution_count": 253,
   "metadata": {},
   "outputs": [
    {
     "name": "stdout",
     "output_type": "stream",
     "text": [
      "Drug1:  metformin\n",
      "Drug2:  acetazolamide\n",
      "Interaction:  The risk or severity of adverse effects can be increased when Acetazolamide is combined with Metformin.\n",
      "AE:  acetazolamide and metformin interact and have reported AE associated with its interaction\n",
      "   event_umls_id  proportional_reporting_ratio\n",
      "29      C0004626                        245.54\n",
      "20      C0149512                        245.39\n",
      "30      C0020440                        222.46\n",
      "33      C0018418                        170.13\n",
      "3       C0031046                        145.99\n",
      "\n",
      "Drug1:  metformin\n",
      "Drug2:  aripiprazole\n",
      "Interaction:  The therapeutic efficacy of Metformin can be decreased when used in combination with Aripiprazole.\n",
      "AE:  aripiprazole and metformin interact and have reported AE associated with its interaction\n",
      "    event_umls_id  proportional_reporting_ratio\n",
      "156      C0020619                        292.37\n",
      "39       C0040456                        238.07\n",
      "122      C0149707                        199.80\n",
      "34       C0156215                        194.22\n",
      "15       C0004690                        168.67\n",
      "\n",
      "Drug1:  metformin\n",
      "Drug2:  atazanavir\n",
      "Interaction:  The therapeutic efficacy of Metformin can be decreased when used in combination with Atazanavir.\n",
      "AE:  atazanavir and metformin interact and have reported AE associated with its interaction\n",
      "   event_umls_id  proportional_reporting_ratio\n",
      "3       C0030486                        420.85\n",
      "16      C0016053                        187.39\n",
      "0       C0003126                        184.37\n",
      "30      C0036396                        153.11\n",
      "28      C0158252                        139.90\n",
      "\n",
      "Drug1:  metformin\n",
      "jhgj has no reported interactions with metformin/verify validity of drug2 name\n",
      "\n",
      "Drug1:  metformin\n",
      "metformin has no reported interactions with metformin/verify validity of drug2 name\n",
      "\n",
      "Drug1:  metformin\n",
      "Drug2:  acetylsalicylic acid\n",
      "Interaction:  Acetylsalicylic acid may increase the hypoglycemic activities of Metformin.\n",
      "AE:  acetylsalicylic acid and metformin interact and have no reported AE associated with its interaction \n",
      "\n"
     ]
    },
    {
     "data": {
      "image/png": "[encoded data removed]",
      "text/plain": [
       "<matplotlib.figure.Figure at 0x7f5497990438>"
      ]
     },
     "metadata": {},
     "output_type": "display_data"
    },
    {
     "data": {
      "image/png": "[encoded data removed]",
      "text/plain": [
       "<matplotlib.figure.Figure at 0x7f549dcb45c0>"
      ]
     },
     "metadata": {},
     "output_type": "display_data"
    },
    {
     "data": {
      "image/png": "[encoded data removed]",
      "text/plain": [
       "<matplotlib.figure.Figure at 0x7f549a815208>"
      ]
     },
     "metadata": {},
     "output_type": "display_data"
    }
   ],
   "source": [
    "%matplotlib inline\n",
    "for drug1 in lst_drug1_class:\n",
    "    for drug2 in lst_drug2_class:\n",
    "        \n",
    "        if drug1 in dct_interact.keys():\n",
    "            print('Drug1: ', drug1)\n",
    "            if (drug2 in dct_interact[drug1].keys()):\n",
    "                print('Drug2: ', drug2)\n",
    "                print('Interaction: ', dct_interact[drug1][drug2][0])\n",
    "                df_AE_drug1_drug2 = getdf_AE_drug1_drug2(drug1,drug2)\n",
    "                if df_AE_drug1_drug2 is not None:\n",
    "                    print(df_AE_drug1_drug2.head())\n",
    "\n",
    "                    ax = df_AE_drug1_drug2[:20].plot(x='event_umls_id', kind='bar', title=drug1.title() + '-' + drug2.title() + ' Most Frank Adverse Events',legend=False)\n",
    "                    ax.set_xlabel(\"Event Umis Id\", fontsize=12)\n",
    "                    ax.set_ylabel(\"Proportional Reporting Ratio\", fontsize=12)\n",
    "                #else:\n",
    "             \n",
    "            else:\n",
    "                print(drug2 + ' has no reported interactions with ' + drug1 + '/verify validity of drug2 name') \n",
    "                \n",
    "        else:\n",
    "            print(drug1 + ' has not been found in database/verify validity of drug1 name')\n",
    "        print('')  "
   ]
  },
  {
   "cell_type": "code",
   "execution_count": 240,
   "metadata": {},
   "outputs": [
    {
     "data": {
      "text/plain": [
       "arterial pressure NOS decreased    28568\n",
       "anaemia                            27006\n",
       "Difficulty breathing               26037\n",
       "nausea                             25190\n",
       "neumonia                           24430\n",
       "Fatigue                            24260\n",
       "Pain                               23894\n",
       "diarrhea                           23848\n",
       "asthenia                           23515\n",
       "emesis                             23043\n",
       "Name: event_name, dtype: int64"
      ]
     },
     "execution_count": 240,
     "metadata": {},
     "output_type": "execute_result"
    }
   ],
   "source": [
    "twosides['event_name'].value_counts()[:10]"
   ]
  },
  {
   "cell_type": "code",
   "execution_count": null,
   "metadata": {
    "collapsed": true
   },
   "outputs": [],
   "source": []
  },
  {
   "cell_type": "code",
   "execution_count": null,
   "metadata": {
    "collapsed": true
   },
   "outputs": [],
   "source": []
  },
  {
   "cell_type": "code",
   "execution_count": null,
   "metadata": {
    "collapsed": true
   },
   "outputs": [],
   "source": [
    "######                  New code                      ######"
   ]
  },
  {
   "cell_type": "code",
   "execution_count": null,
   "metadata": {
    "collapsed": true
   },
   "outputs": [],
   "source": []
  },
  {
   "cell_type": "code",
   "execution_count": null,
   "metadata": {
    "collapsed": true
   },
   "outputs": [],
   "source": []
  },
  {
   "cell_type": "code",
   "execution_count": 241,
   "metadata": {
    "collapsed": true
   },
   "outputs": [],
   "source": [
    "dct_AE = dict(zip(twosides['event_umls_id'], twosides['event_name']))"
   ]
  },
  {
   "cell_type": "code",
   "execution_count": 239,
   "metadata": {},
   "outputs": [
    {
     "data": {
      "text/plain": [
       "1318"
      ]
     },
     "execution_count": 239,
     "metadata": {},
     "output_type": "execute_result"
    }
   ],
   "source": [
    "#Number of unique AE\n",
    "len(dct_AE)"
   ]
  },
  {
   "cell_type": "code",
   "execution_count": null,
   "metadata": {
    "collapsed": true
   },
   "outputs": [],
   "source": []
  },
  {
   "cell_type": "code",
   "execution_count": 254,
   "metadata": {},
   "outputs": [
    {
     "data": {
      "text/html": [
       "<div>\n",
       "<style>\n",
       "    .dataframe thead tr:only-child th {\n",
       "        text-align: right;\n",
       "    }\n",
       "\n",
       "    .dataframe thead th {\n",
       "        text-align: left;\n",
       "    }\n",
       "\n",
       "    .dataframe tbody tr th {\n",
       "        vertical-align: top;\n",
       "    }\n",
       "</style>\n",
       "<table border=\"1\" class=\"dataframe\">\n",
       "  <thead>\n",
       "    <tr style=\"text-align: right;\">\n",
       "      <th></th>\n",
       "      <th>stitch_id</th>\n",
       "      <th>drug</th>\n",
       "      <th>umls_id</th>\n",
       "      <th>event</th>\n",
       "      <th>rr</th>\n",
       "      <th>log2rr</th>\n",
       "      <th>t_statistic</th>\n",
       "      <th>pvalue</th>\n",
       "      <th>observed</th>\n",
       "      <th>expected</th>\n",
       "      <th>bg_correction</th>\n",
       "      <th>sider</th>\n",
       "      <th>future_aers</th>\n",
       "      <th>medeffect</th>\n",
       "    </tr>\n",
       "  </thead>\n",
       "  <tbody>\n",
       "    <tr>\n",
       "      <th>0</th>\n",
       "      <td>CID000000076</td>\n",
       "      <td>dehydroepiandrosterone</td>\n",
       "      <td>C0000737</td>\n",
       "      <td>abdominal pain</td>\n",
       "      <td>2.250000</td>\n",
       "      <td>1.169925</td>\n",
       "      <td>6.537095</td>\n",
       "      <td>6.156712e-07</td>\n",
       "      <td>9</td>\n",
       "      <td>4.000000</td>\n",
       "      <td>0.002849</td>\n",
       "      <td>0</td>\n",
       "      <td>0</td>\n",
       "      <td>0</td>\n",
       "    </tr>\n",
       "    <tr>\n",
       "      <th>1</th>\n",
       "      <td>CID000000076</td>\n",
       "      <td>dehydroepiandrosterone</td>\n",
       "      <td>C0001622</td>\n",
       "      <td>hyperadrenalism</td>\n",
       "      <td>11.000000</td>\n",
       "      <td>3.459432</td>\n",
       "      <td>4.782699</td>\n",
       "      <td>1.644408e-03</td>\n",
       "      <td>2</td>\n",
       "      <td>0.181818</td>\n",
       "      <td>0.000041</td>\n",
       "      <td>0</td>\n",
       "      <td>0</td>\n",
       "      <td>0</td>\n",
       "    </tr>\n",
       "    <tr>\n",
       "      <th>2</th>\n",
       "      <td>CID000000076</td>\n",
       "      <td>dehydroepiandrosterone</td>\n",
       "      <td>C0001623</td>\n",
       "      <td>adrenal insufficiency</td>\n",
       "      <td>2.200000</td>\n",
       "      <td>1.137504</td>\n",
       "      <td>4.315199</td>\n",
       "      <td>9.884952e-03</td>\n",
       "      <td>2</td>\n",
       "      <td>0.909091</td>\n",
       "      <td>0.002491</td>\n",
       "      <td>0</td>\n",
       "      <td>0</td>\n",
       "      <td>0</td>\n",
       "    </tr>\n",
       "    <tr>\n",
       "      <th>3</th>\n",
       "      <td>CID000000076</td>\n",
       "      <td>dehydroepiandrosterone</td>\n",
       "      <td>C0002792</td>\n",
       "      <td>anaphylactic reaction</td>\n",
       "      <td>2.588235</td>\n",
       "      <td>1.371969</td>\n",
       "      <td>4.590918</td>\n",
       "      <td>3.355380e-03</td>\n",
       "      <td>4</td>\n",
       "      <td>1.545455</td>\n",
       "      <td>0.000503</td>\n",
       "      <td>0</td>\n",
       "      <td>0</td>\n",
       "      <td>0</td>\n",
       "    </tr>\n",
       "    <tr>\n",
       "      <th>4</th>\n",
       "      <td>CID000000076</td>\n",
       "      <td>dehydroepiandrosterone</td>\n",
       "      <td>C0002940</td>\n",
       "      <td>aneurysm</td>\n",
       "      <td>7.333333</td>\n",
       "      <td>2.874469</td>\n",
       "      <td>4.598374</td>\n",
       "      <td>3.399457e-03</td>\n",
       "      <td>2</td>\n",
       "      <td>0.272727</td>\n",
       "      <td>0.000135</td>\n",
       "      <td>0</td>\n",
       "      <td>0</td>\n",
       "      <td>0</td>\n",
       "    </tr>\n",
       "  </tbody>\n",
       "</table>\n",
       "</div>"
      ],
      "text/plain": [
       "      stitch_id                    drug   umls_id                  event  \\\n",
       "0  CID000000076  dehydroepiandrosterone  C0000737         abdominal pain   \n",
       "1  CID000000076  dehydroepiandrosterone  C0001622        hyperadrenalism   \n",
       "2  CID000000076  dehydroepiandrosterone  C0001623  adrenal insufficiency   \n",
       "3  CID000000076  dehydroepiandrosterone  C0002792  anaphylactic reaction   \n",
       "4  CID000000076  dehydroepiandrosterone  C0002940               aneurysm   \n",
       "\n",
       "          rr    log2rr  t_statistic        pvalue  observed  expected  \\\n",
       "0   2.250000  1.169925     6.537095  6.156712e-07         9  4.000000   \n",
       "1  11.000000  3.459432     4.782699  1.644408e-03         2  0.181818   \n",
       "2   2.200000  1.137504     4.315199  9.884952e-03         2  0.909091   \n",
       "3   2.588235  1.371969     4.590918  3.355380e-03         4  1.545455   \n",
       "4   7.333333  2.874469     4.598374  3.399457e-03         2  0.272727   \n",
       "\n",
       "   bg_correction  sider  future_aers  medeffect  \n",
       "0       0.002849      0            0          0  \n",
       "1       0.000041      0            0          0  \n",
       "2       0.002491      0            0          0  \n",
       "3       0.000503      0            0          0  \n",
       "4       0.000135      0            0          0  "
      ]
     },
     "execution_count": 254,
     "metadata": {},
     "output_type": "execute_result"
    }
   ],
   "source": [
    "###Offsides\n",
    "from pandas import read_csv\n",
    "offsides = read_csv('3003377s-offsides.tsv', delimiter=\"\\t\")\n",
    "#print(twosides.describe())\n",
    "offsides.head()"
   ]
  },
  {
   "cell_type": "code",
   "execution_count": 342,
   "metadata": {},
   "outputs": [],
   "source": [
    "#Unique Drugs with AE from Offsides\n",
    "lst_drugs_offsides = list(offsides['drug'].value_counts().index)"
   ]
  },
  {
   "cell_type": "code",
   "execution_count": 343,
   "metadata": {},
   "outputs": [
    {
     "data": {
      "text/plain": [
       "['pamidronate',\n",
       " 'zoledronic acid',\n",
       " 'retinoic acid',\n",
       " 'chlorhexidine gluconate',\n",
       " 'ribavirin']"
      ]
     },
     "execution_count": 343,
     "metadata": {},
     "output_type": "execute_result"
    }
   ],
   "source": [
    "lst_drugs_offsides[:5]"
   ]
  },
  {
   "cell_type": "code",
   "execution_count": 344,
   "metadata": {},
   "outputs": [
    {
     "data": {
      "text/plain": [
       "1332"
      ]
     },
     "execution_count": 344,
     "metadata": {},
     "output_type": "execute_result"
    }
   ],
   "source": [
    "len(lst_drugs_offsides)"
   ]
  },
  {
   "cell_type": "code",
   "execution_count": 369,
   "metadata": {
    "collapsed": true
   },
   "outputs": [],
   "source": []
  },
  {
   "cell_type": "code",
   "execution_count": 385,
   "metadata": {},
   "outputs": [],
   "source": [
    "#Unique Drugs from DrugBank\n",
    "lst_drugs_drugbank=[]\n",
    "for doc in coll.find():\n",
    "    #print(doc['Drugname'])\n",
    "    lst_drugs_drugbank.append(doc['Drugname'])"
   ]
  },
  {
   "cell_type": "code",
   "execution_count": 387,
   "metadata": {},
   "outputs": [
    {
     "data": {
      "text/plain": [
       "8206"
      ]
     },
     "execution_count": 387,
     "metadata": {},
     "output_type": "execute_result"
    }
   ],
   "source": [
    "len(lst_drugs_drugbank)"
   ]
  },
  {
   "cell_type": "code",
   "execution_count": null,
   "metadata": {
    "collapsed": true
   },
   "outputs": [],
   "source": []
  },
  {
   "cell_type": "code",
   "execution_count": 388,
   "metadata": {
    "collapsed": true
   },
   "outputs": [],
   "source": [
    "#Unique Drugs with interactions from DrugBank\n",
    "lst_drugs_with_interaction_drugbank = list(interactions.keys())\n",
    "lst_drugs_with_interaction_drugbank = [el.lower() for el in lst_drugs_with_interaction_drugbank]"
   ]
  },
  {
   "cell_type": "code",
   "execution_count": 389,
   "metadata": {},
   "outputs": [
    {
     "data": {
      "text/plain": [
       "['porfimer', 'phenmetrazine', 'zileuton', 'chloroprocaine', 'brompheniramine']"
      ]
     },
     "execution_count": 389,
     "metadata": {},
     "output_type": "execute_result"
    }
   ],
   "source": [
    "lst_drugs_with_interaction_drugbank[:5]"
   ]
  },
  {
   "cell_type": "code",
   "execution_count": 390,
   "metadata": {},
   "outputs": [
    {
     "data": {
      "text/plain": [
       "1474"
      ]
     },
     "execution_count": 390,
     "metadata": {},
     "output_type": "execute_result"
    }
   ],
   "source": [
    "len(lst_drugs_with_interaction_drugbank)"
   ]
  },
  {
   "cell_type": "code",
   "execution_count": null,
   "metadata": {
    "collapsed": true
   },
   "outputs": [],
   "source": []
  },
  {
   "cell_type": "code",
   "execution_count": 391,
   "metadata": {
    "collapsed": true
   },
   "outputs": [],
   "source": [
    "lst_intersection = set(lst_drugs_with_interaction_drugbank).intersection(lst_drugs_offsides)"
   ]
  },
  {
   "cell_type": "code",
   "execution_count": 392,
   "metadata": {},
   "outputs": [
    {
     "data": {
      "text/plain": [
       "731"
      ]
     },
     "execution_count": 392,
     "metadata": {},
     "output_type": "execute_result"
    }
   ],
   "source": [
    "len(lst_intersection)"
   ]
  },
  {
   "cell_type": "code",
   "execution_count": null,
   "metadata": {
    "collapsed": true
   },
   "outputs": [],
   "source": []
  },
  {
   "cell_type": "code",
   "execution_count": 393,
   "metadata": {
    "collapsed": true
   },
   "outputs": [],
   "source": [
    "#Extract off label side effects\n",
    "def extract_AE_offsides(drug):\n",
    "    if drug in list(set(offsides['drug'])):\n",
    "    #if drug in lst_drugs_offsides:\n",
    "        offsides_subset = offsides[offsides['drug']==drug]\n",
    "        dct_drug_extract_offsides = dict(zip( offsides_subset['umls_id'], list(zip(offsides_subset['rr'].round(2), offsides_subset['pvalue'])) ))\n",
    "        return dct_drug_extract_offsides\n",
    "    else:\n",
    "        #print(drug + ' has no reported AE in Offsides')\n",
    "        return None"
   ]
  },
  {
   "cell_type": "code",
   "execution_count": 396,
   "metadata": {},
   "outputs": [],
   "source": [
    "dct_drugs_interactions_AE={}\n",
    "for drug in lst_drugs_with_interaction_drugbank:\n",
    "    #print(extract_AE_offsides(drug))\n",
    "    dct_drugs_interactions_AE[drug] = extract_AE_offsides(drug)"
   ]
  },
  {
   "cell_type": "code",
   "execution_count": 403,
   "metadata": {},
   "outputs": [
    {
     "data": {
      "text/plain": [
       "731"
      ]
     },
     "execution_count": 403,
     "metadata": {},
     "output_type": "execute_result"
    }
   ],
   "source": [
    "#list(dct_drugs_interactions_AE.values())[:4]\n",
    "len([el for el in list(dct_drugs_interactions_AE.values()) if el != None])"
   ]
  },
  {
   "cell_type": "code",
   "execution_count": null,
   "metadata": {
    "collapsed": true
   },
   "outputs": [],
   "source": []
  },
  {
   "cell_type": "code",
   "execution_count": 489,
   "metadata": {},
   "outputs": [],
   "source": [
    "#Get dict and df of DrugBank interactions \n",
    "df_DB = pd.DataFrame(columns=['drug1', 'drug2', 'description'])\n",
    "dct_interact={}\n",
    "for drug1_dbank in list(interactions.keys()):\n",
    "    drug1 = drug1_dbank.lower()\n",
    "    dct_drug1_interactions={}\n",
    "    for dct_drug2_dbank in interactions[drug1_dbank]['drug-interaction']:\n",
    "        if isinstance(dct_drug2_dbank, dict):\n",
    "            #print(type(dct_drug2_dbank), dct_drug2_dbank)\n",
    "            drug2_dbank = dct_drug2_dbank['name']\n",
    "            drug2 = drug2_dbank.lower()\n",
    "            description = dct_drug2_dbank['description']\n",
    "            dct_drug1_interactions[drug2] = description \n",
    "            df_DB = df_DB.append({'drug1': drug1, 'drug2': drug2, 'description': description}, ignore_index=True)\n",
    "    #print(drug1, dct_drug1_interactions)\n",
    "    dct_interact[drug1] = dct_drug1_interactions"
   ]
  },
  {
   "cell_type": "code",
   "execution_count": 491,
   "metadata": {},
   "outputs": [
    {
     "data": {
      "text/html": [
       "<div>\n",
       "<style>\n",
       "    .dataframe thead tr:only-child th {\n",
       "        text-align: right;\n",
       "    }\n",
       "\n",
       "    .dataframe thead th {\n",
       "        text-align: left;\n",
       "    }\n",
       "\n",
       "    .dataframe tbody tr th {\n",
       "        vertical-align: top;\n",
       "    }\n",
       "</style>\n",
       "<table border=\"1\" class=\"dataframe\">\n",
       "  <thead>\n",
       "    <tr style=\"text-align: right;\">\n",
       "      <th></th>\n",
       "      <th>drug1</th>\n",
       "      <th>drug2</th>\n",
       "      <th>description</th>\n",
       "    </tr>\n",
       "  </thead>\n",
       "  <tbody>\n",
       "    <tr>\n",
       "      <th>0</th>\n",
       "      <td>porfimer</td>\n",
       "      <td>acitretin</td>\n",
       "      <td>Acitretin may increase the photosensitizing ac...</td>\n",
       "    </tr>\n",
       "    <tr>\n",
       "      <th>1</th>\n",
       "      <td>porfimer</td>\n",
       "      <td>adapalene</td>\n",
       "      <td>Adapalene may increase the photosensitizing ac...</td>\n",
       "    </tr>\n",
       "    <tr>\n",
       "      <th>2</th>\n",
       "      <td>porfimer</td>\n",
       "      <td>afatinib</td>\n",
       "      <td>Afatinib may increase the photosensitizing act...</td>\n",
       "    </tr>\n",
       "    <tr>\n",
       "      <th>3</th>\n",
       "      <td>porfimer</td>\n",
       "      <td>alitretinoin</td>\n",
       "      <td>Alitretinoin may increase the photosensitizing...</td>\n",
       "    </tr>\n",
       "    <tr>\n",
       "      <th>4</th>\n",
       "      <td>porfimer</td>\n",
       "      <td>aminolevulinic acid</td>\n",
       "      <td>Aminolevulinic acid may increase the photosens...</td>\n",
       "    </tr>\n",
       "  </tbody>\n",
       "</table>\n",
       "</div>"
      ],
      "text/plain": [
       "      drug1                drug2  \\\n",
       "0  porfimer            acitretin   \n",
       "1  porfimer            adapalene   \n",
       "2  porfimer             afatinib   \n",
       "3  porfimer         alitretinoin   \n",
       "4  porfimer  aminolevulinic acid   \n",
       "\n",
       "                                         description  \n",
       "0  Acitretin may increase the photosensitizing ac...  \n",
       "1  Adapalene may increase the photosensitizing ac...  \n",
       "2  Afatinib may increase the photosensitizing act...  \n",
       "3  Alitretinoin may increase the photosensitizing...  \n",
       "4  Aminolevulinic acid may increase the photosens...  "
      ]
     },
     "execution_count": 491,
     "metadata": {},
     "output_type": "execute_result"
    }
   ],
   "source": [
    "df_DB.head()"
   ]
  },
  {
   "cell_type": "code",
   "execution_count": null,
   "metadata": {
    "collapsed": true
   },
   "outputs": [],
   "source": []
  },
  {
   "cell_type": "code",
   "execution_count": 492,
   "metadata": {
    "collapsed": true
   },
   "outputs": [],
   "source": [
    "df_TS_unique = twosides[['drug1','drug2']].drop_duplicates()"
   ]
  },
  {
   "cell_type": "code",
   "execution_count": 493,
   "metadata": {},
   "outputs": [
    {
     "data": {
      "text/html": [
       "<div>\n",
       "<style>\n",
       "    .dataframe thead tr:only-child th {\n",
       "        text-align: right;\n",
       "    }\n",
       "\n",
       "    .dataframe thead th {\n",
       "        text-align: left;\n",
       "    }\n",
       "\n",
       "    .dataframe tbody tr th {\n",
       "        vertical-align: top;\n",
       "    }\n",
       "</style>\n",
       "<table border=\"1\" class=\"dataframe\">\n",
       "  <thead>\n",
       "    <tr style=\"text-align: right;\">\n",
       "      <th></th>\n",
       "      <th>drug1</th>\n",
       "      <th>drug2</th>\n",
       "    </tr>\n",
       "  </thead>\n",
       "  <tbody>\n",
       "    <tr>\n",
       "      <th>0</th>\n",
       "      <td>carnitine</td>\n",
       "      <td>galactose</td>\n",
       "    </tr>\n",
       "    <tr>\n",
       "      <th>11</th>\n",
       "      <td>carnitine</td>\n",
       "      <td>calcium</td>\n",
       "    </tr>\n",
       "    <tr>\n",
       "      <th>26</th>\n",
       "      <td>carnitine</td>\n",
       "      <td>bupropion</td>\n",
       "    </tr>\n",
       "    <tr>\n",
       "      <th>73</th>\n",
       "      <td>carnitine</td>\n",
       "      <td>heparin</td>\n",
       "    </tr>\n",
       "    <tr>\n",
       "      <th>99</th>\n",
       "      <td>carnitine</td>\n",
       "      <td>thyroxine</td>\n",
       "    </tr>\n",
       "  </tbody>\n",
       "</table>\n",
       "</div>"
      ],
      "text/plain": [
       "        drug1      drug2\n",
       "0   carnitine  galactose\n",
       "11  carnitine    calcium\n",
       "26  carnitine  bupropion\n",
       "73  carnitine    heparin\n",
       "99  carnitine  thyroxine"
      ]
     },
     "execution_count": 493,
     "metadata": {},
     "output_type": "execute_result"
    }
   ],
   "source": [
    "df_TS_unique.head()"
   ]
  },
  {
   "cell_type": "code",
   "execution_count": 494,
   "metadata": {
    "collapsed": true
   },
   "outputs": [],
   "source": [
    "df_DB_TS_outer = pd.merge(df_DB[['drug1','drug2']], df_TS_unique, how='outer', on=['drug1', 'drug2'])"
   ]
  },
  {
   "cell_type": "code",
   "execution_count": 495,
   "metadata": {},
   "outputs": [
    {
     "data": {
      "text/html": [
       "<div>\n",
       "<style>\n",
       "    .dataframe thead tr:only-child th {\n",
       "        text-align: right;\n",
       "    }\n",
       "\n",
       "    .dataframe thead th {\n",
       "        text-align: left;\n",
       "    }\n",
       "\n",
       "    .dataframe tbody tr th {\n",
       "        vertical-align: top;\n",
       "    }\n",
       "</style>\n",
       "<table border=\"1\" class=\"dataframe\">\n",
       "  <thead>\n",
       "    <tr style=\"text-align: right;\">\n",
       "      <th></th>\n",
       "      <th>drug1</th>\n",
       "      <th>drug2</th>\n",
       "    </tr>\n",
       "  </thead>\n",
       "  <tbody>\n",
       "    <tr>\n",
       "      <th>0</th>\n",
       "      <td>porfimer</td>\n",
       "      <td>acitretin</td>\n",
       "    </tr>\n",
       "    <tr>\n",
       "      <th>1</th>\n",
       "      <td>porfimer</td>\n",
       "      <td>adapalene</td>\n",
       "    </tr>\n",
       "    <tr>\n",
       "      <th>2</th>\n",
       "      <td>porfimer</td>\n",
       "      <td>afatinib</td>\n",
       "    </tr>\n",
       "    <tr>\n",
       "      <th>3</th>\n",
       "      <td>porfimer</td>\n",
       "      <td>alitretinoin</td>\n",
       "    </tr>\n",
       "    <tr>\n",
       "      <th>4</th>\n",
       "      <td>porfimer</td>\n",
       "      <td>aminolevulinic acid</td>\n",
       "    </tr>\n",
       "  </tbody>\n",
       "</table>\n",
       "</div>"
      ],
      "text/plain": [
       "      drug1                drug2\n",
       "0  porfimer            acitretin\n",
       "1  porfimer            adapalene\n",
       "2  porfimer             afatinib\n",
       "3  porfimer         alitretinoin\n",
       "4  porfimer  aminolevulinic acid"
      ]
     },
     "execution_count": 495,
     "metadata": {},
     "output_type": "execute_result"
    }
   ],
   "source": [
    "df_DB_TS_outer.head()"
   ]
  },
  {
   "cell_type": "code",
   "execution_count": 496,
   "metadata": {},
   "outputs": [
    {
     "data": {
      "text/plain": [
       "154011"
      ]
     },
     "execution_count": 496,
     "metadata": {},
     "output_type": "execute_result"
    }
   ],
   "source": [
    "len(df_DB_TS_outer)"
   ]
  },
  {
   "cell_type": "code",
   "execution_count": 497,
   "metadata": {},
   "outputs": [
    {
     "data": {
      "text/plain": [
       "95478"
      ]
     },
     "execution_count": 497,
     "metadata": {},
     "output_type": "execute_result"
    }
   ],
   "source": [
    "len(df_DB)"
   ]
  },
  {
   "cell_type": "code",
   "execution_count": 498,
   "metadata": {},
   "outputs": [
    {
     "data": {
      "text/plain": [
       "63473"
      ]
     },
     "execution_count": 498,
     "metadata": {},
     "output_type": "execute_result"
    }
   ],
   "source": [
    "len(df_TS_unique)"
   ]
  },
  {
   "cell_type": "code",
   "execution_count": null,
   "metadata": {
    "collapsed": true
   },
   "outputs": [],
   "source": []
  },
  {
   "cell_type": "code",
   "execution_count": 564,
   "metadata": {
    "collapsed": true
   },
   "outputs": [],
   "source": [
    "def get_interaction(drug1, drug2):\n",
    "    if drug1 in list(dct_interact.keys()):\n",
    "        if drug2 in list(dct_interact[drug1].keys()):\n",
    "            result = dct_interact[drug1][drug2]\n",
    "            return result\n",
    "        else:\n",
    "            return None\n",
    "            #print(drug1 + ' does not interact with ' + drug2)\n",
    "    else:\n",
    "        return None\n",
    "        #print(drug1 + ' not in DrugBank')\n",
    "    #return result"
   ]
  },
  {
   "cell_type": "code",
   "execution_count": 592,
   "metadata": {
    "collapsed": true
   },
   "outputs": [],
   "source": [
    "def get_ae(drug1, drug2):\n",
    "    twosides_subset = twosides[(twosides['drug1'] == drug1) & (twosides['drug2'] == drug2) |\n",
    "        (twosides['drug2'] == drug1) & (twosides['drug1'] == drug2)]\n",
    "    if twosides_subset.empty:\n",
    "        return None\n",
    "    else:\n",
    "        #twosides_subset = twosides_subset.sort_values('proportional_reporting_ratio', ascending=False)\n",
    "        dct = dict(zip( twosides_subset['event_umls_id'], twosides_subset['proportional_reporting_ratio'].round(2) ))\n",
    "        return dct\n",
    "    #return result"
   ]
  },
  {
   "cell_type": "code",
   "execution_count": 582,
   "metadata": {},
   "outputs": [
    {
     "data": {
      "text/plain": [
       "154011"
      ]
     },
     "execution_count": 582,
     "metadata": {},
     "output_type": "execute_result"
    }
   ],
   "source": [
    "len(df_DB_TS_outer)"
   ]
  },
  {
   "cell_type": "code",
   "execution_count": 593,
   "metadata": {},
   "outputs": [
    {
     "name": "stdout",
     "output_type": "stream",
     "text": [
      "13.099765999999363\n"
     ]
    }
   ],
   "source": [
    "import time\n",
    "\n",
    "t0 = time.clock()\n",
    "dct_DB_TS_outer=dict()\n",
    "#for i in range(0, len(df_DB_TS_outer)):\n",
    "for i in range(0, 10):\n",
    "    drug1 = df_DB_TS_outer.iloc[i]['drug1']\n",
    "    drug2 = df_DB_TS_outer.iloc[i]['drug2']\n",
    "    #print(drug1,drug2)\n",
    "    #interaction = get_interaction(drug1, drug2)\n",
    "    ae = get_ae(drug1,drug2)\n",
    "    #dct_DB_TS_outer[(drug1,drug2)] = [interaction, ae]\n",
    "dt = time.clock()-t0\n",
    "print(dt)\n",
    "    "
   ]
  },
  {
   "cell_type": "code",
   "execution_count": 585,
   "metadata": {},
   "outputs": [
    {
     "data": {
      "text/plain": [
       "['Adapalene may increase the photosensitizing activities of Porfimer.', None]"
      ]
     },
     "execution_count": 585,
     "metadata": {},
     "output_type": "execute_result"
    }
   ],
   "source": [
    "dct_DB_TS_outer[('porfimer', 'adapalene')]"
   ]
  },
  {
   "cell_type": "code",
   "execution_count": 567,
   "metadata": {},
   "outputs": [
    {
     "data": {
      "text/plain": [
       "'Adapalene may increase the photosensitizing activities of Porfimer.'"
      ]
     },
     "execution_count": 567,
     "metadata": {},
     "output_type": "execute_result"
    }
   ],
   "source": [
    "dct_interact['porfimer']['adapalene']"
   ]
  },
  {
   "cell_type": "code",
   "execution_count": 548,
   "metadata": {},
   "outputs": [
    {
     "data": {
      "text/html": [
       "<div>\n",
       "<style>\n",
       "    .dataframe thead tr:only-child th {\n",
       "        text-align: right;\n",
       "    }\n",
       "\n",
       "    .dataframe thead th {\n",
       "        text-align: left;\n",
       "    }\n",
       "\n",
       "    .dataframe tbody tr th {\n",
       "        vertical-align: top;\n",
       "    }\n",
       "</style>\n",
       "<table border=\"1\" class=\"dataframe\">\n",
       "  <thead>\n",
       "    <tr style=\"text-align: right;\">\n",
       "      <th></th>\n",
       "      <th>drug1</th>\n",
       "      <th>drug2</th>\n",
       "      <th>description</th>\n",
       "    </tr>\n",
       "  </thead>\n",
       "  <tbody>\n",
       "    <tr>\n",
       "      <th>0</th>\n",
       "      <td>porfimer</td>\n",
       "      <td>acitretin</td>\n",
       "      <td>Acitretin may increase the photosensitizing ac...</td>\n",
       "    </tr>\n",
       "    <tr>\n",
       "      <th>1</th>\n",
       "      <td>porfimer</td>\n",
       "      <td>adapalene</td>\n",
       "      <td>Adapalene may increase the photosensitizing ac...</td>\n",
       "    </tr>\n",
       "    <tr>\n",
       "      <th>2</th>\n",
       "      <td>porfimer</td>\n",
       "      <td>afatinib</td>\n",
       "      <td>Afatinib may increase the photosensitizing act...</td>\n",
       "    </tr>\n",
       "    <tr>\n",
       "      <th>3</th>\n",
       "      <td>porfimer</td>\n",
       "      <td>alitretinoin</td>\n",
       "      <td>Alitretinoin may increase the photosensitizing...</td>\n",
       "    </tr>\n",
       "    <tr>\n",
       "      <th>4</th>\n",
       "      <td>porfimer</td>\n",
       "      <td>aminolevulinic acid</td>\n",
       "      <td>Aminolevulinic acid may increase the photosens...</td>\n",
       "    </tr>\n",
       "  </tbody>\n",
       "</table>\n",
       "</div>"
      ],
      "text/plain": [
       "      drug1                drug2  \\\n",
       "0  porfimer            acitretin   \n",
       "1  porfimer            adapalene   \n",
       "2  porfimer             afatinib   \n",
       "3  porfimer         alitretinoin   \n",
       "4  porfimer  aminolevulinic acid   \n",
       "\n",
       "                                         description  \n",
       "0  Acitretin may increase the photosensitizing ac...  \n",
       "1  Adapalene may increase the photosensitizing ac...  \n",
       "2  Afatinib may increase the photosensitizing act...  \n",
       "3  Alitretinoin may increase the photosensitizing...  \n",
       "4  Aminolevulinic acid may increase the photosens...  "
      ]
     },
     "execution_count": 548,
     "metadata": {},
     "output_type": "execute_result"
    }
   ],
   "source": [
    "df_DB.head()"
   ]
  },
  {
   "cell_type": "code",
   "execution_count": 578,
   "metadata": {},
   "outputs": [
    {
     "data": {
      "text/html": [
       "<div>\n",
       "<style>\n",
       "    .dataframe thead tr:only-child th {\n",
       "        text-align: right;\n",
       "    }\n",
       "\n",
       "    .dataframe thead th {\n",
       "        text-align: left;\n",
       "    }\n",
       "\n",
       "    .dataframe tbody tr th {\n",
       "        vertical-align: top;\n",
       "    }\n",
       "</style>\n",
       "<table border=\"1\" class=\"dataframe\">\n",
       "  <thead>\n",
       "    <tr style=\"text-align: right;\">\n",
       "      <th></th>\n",
       "      <th>drug1</th>\n",
       "      <th>drug2</th>\n",
       "      <th>description</th>\n",
       "    </tr>\n",
       "  </thead>\n",
       "  <tbody>\n",
       "    <tr>\n",
       "      <th>1</th>\n",
       "      <td>porfimer</td>\n",
       "      <td>adapalene</td>\n",
       "      <td>Adapalene may increase the photosensitizing ac...</td>\n",
       "    </tr>\n",
       "  </tbody>\n",
       "</table>\n",
       "</div>"
      ],
      "text/plain": [
       "      drug1      drug2                                        description\n",
       "1  porfimer  adapalene  Adapalene may increase the photosensitizing ac..."
      ]
     },
     "execution_count": 578,
     "metadata": {},
     "output_type": "execute_result"
    }
   ],
   "source": [
    "df_DB[(df_DB['drug1']=='porfimer') & (df_DB['drug2']=='adapalene')]"
   ]
  },
  {
   "cell_type": "code",
   "execution_count": 570,
   "metadata": {},
   "outputs": [],
   "source": [
    "get_ae('porfimer', 'adapalene')"
   ]
  },
  {
   "cell_type": "code",
   "execution_count": 569,
   "metadata": {},
   "outputs": [
    {
     "data": {
      "text/plain": [
       "'Adapalene may increase the photosensitizing activities of Porfimer.'"
      ]
     },
     "execution_count": 569,
     "metadata": {},
     "output_type": "execute_result"
    }
   ],
   "source": [
    "get_interaction('porfimer', 'adapalene')"
   ]
  },
  {
   "cell_type": "code",
   "execution_count": 571,
   "metadata": {
    "collapsed": true
   },
   "outputs": [],
   "source": [
    "get_ae('metformin','asd')"
   ]
  },
  {
   "cell_type": "code",
   "execution_count": 572,
   "metadata": {},
   "outputs": [
    {
     "data": {
      "text/plain": [
       "'The risk or severity of adverse effects can be increased when Acetazolamide is combined with Metformin.'"
      ]
     },
     "execution_count": 572,
     "metadata": {},
     "output_type": "execute_result"
    }
   ],
   "source": [
    "get_interaction('metformin','acetazolamide')"
   ]
  },
  {
   "cell_type": "code",
   "execution_count": 573,
   "metadata": {},
   "outputs": [
    {
     "data": {
      "text/plain": [
       "{'C0003850': 55.689999999999998,\n",
       " 'C0004093': 2.2000000000000002,\n",
       " 'C0004238': 6.8399999999999999,\n",
       " 'C0004604': 5.3600000000000003,\n",
       " 'C0004626': 245.53999999999999,\n",
       " 'C0008031': 3.0800000000000001,\n",
       " 'C0008033': 10.539999999999999,\n",
       " 'C0008035': 138.18000000000001,\n",
       " 'C0009421': 12.359999999999999,\n",
       " 'C0009676': 4.6900000000000004,\n",
       " 'C0010054': 12.91,\n",
       " 'C0013404': 7.0700000000000003,\n",
       " 'C0018418': 170.13,\n",
       " 'C0018799': 7.1900000000000004,\n",
       " 'C0018800': 13.01,\n",
       " 'C0018802': 2.3300000000000001,\n",
       " 'C0020440': 222.46000000000001,\n",
       " 'C0020461': 10.42,\n",
       " 'C0020473': 19.59,\n",
       " 'C0020542': 28.850000000000001,\n",
       " 'C0020649': 1.95,\n",
       " 'C0022660': 3.3900000000000001,\n",
       " 'C0027051': 1.5700000000000001,\n",
       " 'C0027719': 46.479999999999997,\n",
       " 'C0031039': 31.27,\n",
       " 'C0031046': 145.99000000000001,\n",
       " 'C0032227': 8.4399999999999995,\n",
       " 'C0039070': 8.9000000000000004,\n",
       " 'C0040822': 4.2300000000000004,\n",
       " 'C0042029': 7.4699999999999998,\n",
       " 'C0149512': 245.38999999999999,\n",
       " 'C0220981': 18.18,\n",
       " 'C0242184': 24.359999999999999,\n",
       " 'C0342579': 85.659999999999997,\n",
       " 'C0398353': 4.4500000000000002,\n",
       " 'C0442874': 6.1200000000000001,\n",
       " 'C1145670': 12.949999999999999}"
      ]
     },
     "execution_count": 573,
     "metadata": {},
     "output_type": "execute_result"
    }
   ],
   "source": [
    "get_ae('metformin','acetazolamide')"
   ]
  },
  {
   "cell_type": "code",
   "execution_count": 574,
   "metadata": {},
   "outputs": [
    {
     "data": {
      "text/plain": [
       "'Acetylsalicylic acid may increase the hypoglycemic activities of Metformin.'"
      ]
     },
     "execution_count": 574,
     "metadata": {},
     "output_type": "execute_result"
    }
   ],
   "source": [
    "get_interaction('metformin','acetylsalicylic acid')"
   ]
  },
  {
   "cell_type": "code",
   "execution_count": 575,
   "metadata": {
    "collapsed": true
   },
   "outputs": [],
   "source": [
    "get_ae('metformin','acetylsalicylic acid')"
   ]
  },
  {
   "cell_type": "code",
   "execution_count": 576,
   "metadata": {
    "collapsed": true
   },
   "outputs": [],
   "source": [
    "get_ae('metformin','metformin')"
   ]
  },
  {
   "cell_type": "code",
   "execution_count": 577,
   "metadata": {
    "collapsed": true
   },
   "outputs": [],
   "source": [
    "get_interaction('metformin','metformin')"
   ]
  },
  {
   "cell_type": "code",
   "execution_count": null,
   "metadata": {
    "collapsed": true
   },
   "outputs": [],
   "source": []
  },
  {
   "cell_type": "code",
   "execution_count": null,
   "metadata": {
    "collapsed": true
   },
   "outputs": [],
   "source": [
    "import checkdb \n",
    "checkdb.get_ae('metformin','acetazolamide')\n",
    "checkdb.get_interaction('metformin','acetazolamide')"
   ]
  },
  {
   "cell_type": "code",
   "execution_count": null,
   "metadata": {
    "collapsed": true
   },
   "outputs": [],
   "source": []
  }
 ],
 "metadata": {
  "kernelspec": {
   "display_name": "Python 3",
   "language": "python",
   "name": "python3"
  },
  "language_info": {
   "codemirror_mode": {
    "name": "ipython",
    "version": 3
   },
   "file_extension": ".py",
   "mimetype": "text/x-python",
   "name": "python",
   "nbconvert_exporter": "python",
   "pygments_lexer": "ipython3",
   "version": "3.5.2"
  }
 },
 "nbformat": 4,
 "nbformat_minor": 2
}
